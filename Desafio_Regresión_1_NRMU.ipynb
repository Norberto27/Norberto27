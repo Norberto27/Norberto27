{
  "nbformat": 4,
  "nbformat_minor": 0,
  "metadata": {
    "colab": {
      "provenance": [],
      "include_colab_link": true
    },
    "kernelspec": {
      "name": "python3",
      "display_name": "Python 3"
    },
    "language_info": {
      "name": "python"
    }
  },
  "cells": [
    {
      "cell_type": "markdown",
      "metadata": {
        "id": "view-in-github",
        "colab_type": "text"
      },
      "source": [
        "<a href=\"https://colab.research.google.com/github/Norberto27/Norberto27/blob/main/Desafio_Regresi%C3%B3n_1_NRMU.ipynb\" target=\"_parent\"><img src=\"https://colab.research.google.com/assets/colab-badge.svg\" alt=\"Open In Colab\"/></a>"
      ]
    },
    {
      "cell_type": "markdown",
      "source": [
        "# INDICACIONES\n",
        "\n",
        "1) Cada uno debe completar las consignas indicadas en este notebook.\n",
        "\n",
        "2) Deben postear como solución enlace a su notebook colab público y también debe estar en su repositorio GitHub.\n",
        "\n",
        "3) No pueden repetir el mismo dataset que ya haya definido un compañero.\n",
        "\n",
        "4) copias explícitas de secciones enteras del trabajo de otro será penalizado disminuyendo su puntuación.\n",
        "\n",
        "5) No se olvide de añadir las fuentes de inspiración de su código (blogs, prompts de chatgpt o similar).\n",
        "\n",
        "6) Además de todo el código que agregue, es importante que sepa interpretarlo. Agregue texto explicativo en cada sección. Esto le ayudará al momento del coloquio / parcial\n",
        "\n",
        "7) Revise las fecha límite de entrega de este trabajo"
      ],
      "metadata": {
        "id": "BSeucmV-KLmJ"
      }
    },
    {
      "cell_type": "markdown",
      "source": [
        "# Dataset\n",
        "\n",
        "Genere un dataset sintético con al menos 4 variables y una variable continua para usarlo luego en regresión.\n",
        "\n"
      ],
      "metadata": {
        "id": "PA_K-G-ztGNZ"
      }
    },
    {
      "cell_type": "markdown",
      "source": [
        "# **Justificación de la adaptación del dataset**\n",
        "\n",
        "He optado por la creación de un dataset basado en un escenario realista (una fábrica de pastas), en lugar de generar un dataset completamente sintético.\n",
        "\n",
        "En este caso, las variables como tiempo de producción, cantidad de empleados, cantidad de materias primas, entre otras, han sido modeladas de manera artificial, pero a partir de suposiciones realistas que emulan el comportamiento de una situación real.\n",
        "\n",
        "Este enfoque enriquece el contexto al ofrecer una aplicación directa de la regresión lineal en un entorno industrial, lo que añade valor práctico y facilita la comprensión del problema a resolver.\n",
        "\n",
        "Anteriormente, he trabajado en situaciones similares utilizando herramientas de Investigación Operativa como la Programación Lineal y el método Simplex, lo que refuerza la coherencia de este enfoque.\n",
        "\n",
        "A pesar de basarse en un escenario de la vida real, el dataset sigue un enfoque sintético en cuanto a su estructura y generación, ya que los datos no provienen de una fuente real, sino de suposiciones modeladas artificialmente. Esto mantiene la naturaleza controlada de los datos, permitiendo cumplir con los requisitos técnicos de la práctica y facilitando la experimentación.\n",
        "\n",
        "Además, este enfoque no solo cumple con las exigencias de generar un dataset sintético, sino que también me ha permitido una mejor interpretación y comprensión del problema al trabajar con un contexto familiar y práctico, lo que me resulta especialmente beneficioso en esta etapa de formación.\n"
      ],
      "metadata": {
        "id": "q1tANbVwi98G"
      }
    },
    {
      "cell_type": "markdown",
      "source": [],
      "metadata": {
        "id": "1HxlgVD37A5m"
      }
    },
    {
      "cell_type": "code",
      "source": [],
      "metadata": {
        "id": "uddO_IbetVys"
      },
      "execution_count": null,
      "outputs": []
    },
    {
      "cell_type": "markdown",
      "source": [
        "Describa como generó los datos."
      ],
      "metadata": {
        "id": "QZ6peniZtXJF"
      }
    },
    {
      "cell_type": "markdown",
      "source": [
        "# **Contexto del Problema en una Fábrica de Pastas**\n",
        "\n",
        "En este proyecto, voy a modelar y resolver un problema en una fábrica de pastas utilizando un enfoque de regresión. La idea es predecir una variable continua clave en la producción, como puede ser la cantidad de pasta producida (en kilogramos) o los ingresos totales por ventas, en función de diversas características y factores que afectan el proceso de fabricación.\n",
        "El problema planteado se relaciona con una situación que, en mi experiencia como profesional en Investigación Operativa, he abordado utilizando diversas herramientas matemáticas y estadísticas. Sin embargo, en esta oportunidad utilizaremos técnicas de inteligencia artificial, aplicando un modelo de regresión para resolverlo.\n",
        "\n",
        "# **Definición de Variables**\n",
        "\n",
        "En el contexto de la fábrica de pastas, voy a modelar una variable dependiente (y), que será la producción diaria de pasta (en kg),\n",
        "\n",
        "y la predecire en función de cuatro variables independientes (X1, X2, X3, X4), que representan diferentes aspectos del proceso de producción. Las variables son las siguientes:\n",
        "\n",
        "•\tX1 (Cantidad de horas trabajadas por día): Es una variable continua que representa el número de horas que las líneas de producción están operativas. A mayor cantidad de horas trabajadas, se espera que la producción aumente.\n",
        "\n",
        "•\tX2 (Temperatura del horno en grados Celsius): Esta variable sigue una distribución normal y representa la temperatura promedio a la que operan los hornos industriales. Si la temperatura es demasiado baja o alta, podría afectar negativamente la producción o la calidad del producto, por lo que se espera que esta variable tenga un impacto significativo.\n",
        "\n",
        "•\tX3 (Cantidad de trabajadores en planta): Se trata de una variable discreta que representa el número de operarios que están trabajando en la planta de producción. A mayor cantidad de trabajadores, generalmente se espera un mayor rendimiento en términos de producción.\n",
        "\n",
        "•\tX4 (Costos de insumos en dólares): Esta variable refleja el costo diario de los insumos utilizados para producir la pasta, como harina, huevo, y electricidad. Los cambios en los costos de insumos pueden influir indirectamente en la producción, ya que aumentos en estos costos pueden llevar a restricciones en el volumen producido, o a la toma de decisiones operativas que limiten la producción para reducir gastos.\n",
        "\n",
        "Generación de la Variable Dependiente (Producción de Pasta)\n",
        "\n",
        "La variable dependiente **y** se representa como una combinación lineal de las variables independientes con un término de error, para reflejar el comportamiento real y las variaciones no controlables del proceso:\n",
        "\n",
        "•\ty = 3 * X1 - 2 * X2 + 0.5 * X3 + 2 * X4 + error\n",
        "\n",
        "•\tEl coeficiente positivo frente a X1 sugiere que, cuantas más horas se trabaje en la fábrica, más pasta se producirá.\n",
        "\n",
        "•\tEl coeficiente negativo frente a X2 indica que, si la temperatura del horno se desvía de los niveles óptimos, la producción disminuirá.\n",
        "\n",
        "•\tEl coeficiente positivo frente a X3 muestra que más trabajadores en la línea de producción aumentan la cantidad de pasta producida.\n",
        "\n",
        "•\tEl coeficiente frente a X4 refleja cómo los cambios en los costos de los insumos afectan la producción.\n",
        "\n",
        "En este caso, un aumento en los costos podría llevar a una mayor eficiencia en la producción o ajustes en los procesos que mejoran la cantidad de producción para maximizar el uso de insumos.\n"
      ],
      "metadata": {
        "id": "Uw9ve86E7gyI"
      }
    },
    {
      "cell_type": "code",
      "source": [
        "import numpy as np\n",
        "import pandas as pd\n",
        "\n",
        "# Fijamos una semilla para asegurar reproducibilidad\n",
        "np.random.seed(42)\n",
        "\n",
        "# Número de muestras (días de producción simulados)\n",
        "n = 1000\n",
        "\n",
        "# Generamos 4 variables predictoras (correspondientes a factores de producción en la fábrica)\n",
        "# X1: Cantidad de horas trabajadas por día (entre 0 y 10 horas)\n",
        "horas_trabajadas = np.random.uniform(0, 10, n)\n",
        "\n",
        "# X2: Temperatura promedio del horno (distribución normal con media 50°C y desviación estándar 5°C)\n",
        "temperatura_horno = np.random.normal(50, 5, n)\n",
        "\n",
        "# X3: Cantidad de trabajadores en planta (entre 10 y 100)\n",
        "trabajadores = np.random.randint(10, 100, n)\n",
        "\n",
        "# X4: Costos diarios de insumos (distribución uniforme entre -5 y 5 para simular fluctuaciones en el costo)\n",
        "costos_insumos = np.random.uniform(-5, 5, n)\n",
        "\n",
        "# Generamos la variable dependiente: Producción diaria de pasta en kg (combinación de los factores anteriores)\n",
        "# La fórmula refleja el impacto de cada factor en la producción\n",
        "# y = 3 * horas_trabajadas - 2 * temperatura_horno + 0.5 * trabajadores + 2 * costos_insumos + error\n",
        "error = np.random.normal(0, 1, n)\n",
        "produccion_pasta = 3 * horas_trabajadas - 2 * temperatura_horno + 0.5 * trabajadores + 2 * costos_insumos + error\n",
        "\n",
        "# Creamos un DataFrame con los datos simulados\n",
        "df_fabrica_pastas = pd.DataFrame({\n",
        "    'Horas_Trabajadas': horas_trabajadas,\n",
        "    'Temperatura_Horno': temperatura_horno,\n",
        "    'Trabajadores': trabajadores,\n",
        "    'Costos_Insumos': costos_insumos,\n",
        "    'Produccion_Pasta': produccion_pasta\n",
        "})\n",
        "\n",
        "# Mostramos las primeras filas del dataset\n",
        "df_fabrica_pastas.head()\n"
      ],
      "metadata": {
        "colab": {
          "base_uri": "https://localhost:8080/",
          "height": 206
        },
        "id": "QUnfZazh-e7M",
        "outputId": "1908943b-7644-440f-ac19-7c9824b9b19a"
      },
      "execution_count": null,
      "outputs": [
        {
          "output_type": "execute_result",
          "data": {
            "text/plain": [
              "   Horas_Trabajadas  Temperatura_Horno  Trabajadores  Costos_Insumos  \\\n",
              "0          3.745401          50.888505            74        1.727030   \n",
              "1          9.507143          43.323278            66        2.966814   \n",
              "2          7.319939          51.900989            49       -2.495321   \n",
              "3          5.986585          53.052929            23        1.248741   \n",
              "4          1.560186          52.798952            44        0.717460   \n",
              "\n",
              "   Produccion_Pasta  \n",
              "0        -48.758106  \n",
              "1        -18.878315  \n",
              "2        -62.939306  \n",
              "3        -73.692717  \n",
              "4        -77.941516  "
            ],
            "text/html": [
              "\n",
              "  <div id=\"df-a67a96d5-18cd-4747-97b8-6e6e56dcdf02\" class=\"colab-df-container\">\n",
              "    <div>\n",
              "<style scoped>\n",
              "    .dataframe tbody tr th:only-of-type {\n",
              "        vertical-align: middle;\n",
              "    }\n",
              "\n",
              "    .dataframe tbody tr th {\n",
              "        vertical-align: top;\n",
              "    }\n",
              "\n",
              "    .dataframe thead th {\n",
              "        text-align: right;\n",
              "    }\n",
              "</style>\n",
              "<table border=\"1\" class=\"dataframe\">\n",
              "  <thead>\n",
              "    <tr style=\"text-align: right;\">\n",
              "      <th></th>\n",
              "      <th>Horas_Trabajadas</th>\n",
              "      <th>Temperatura_Horno</th>\n",
              "      <th>Trabajadores</th>\n",
              "      <th>Costos_Insumos</th>\n",
              "      <th>Produccion_Pasta</th>\n",
              "    </tr>\n",
              "  </thead>\n",
              "  <tbody>\n",
              "    <tr>\n",
              "      <th>0</th>\n",
              "      <td>3.745401</td>\n",
              "      <td>50.888505</td>\n",
              "      <td>74</td>\n",
              "      <td>1.727030</td>\n",
              "      <td>-48.758106</td>\n",
              "    </tr>\n",
              "    <tr>\n",
              "      <th>1</th>\n",
              "      <td>9.507143</td>\n",
              "      <td>43.323278</td>\n",
              "      <td>66</td>\n",
              "      <td>2.966814</td>\n",
              "      <td>-18.878315</td>\n",
              "    </tr>\n",
              "    <tr>\n",
              "      <th>2</th>\n",
              "      <td>7.319939</td>\n",
              "      <td>51.900989</td>\n",
              "      <td>49</td>\n",
              "      <td>-2.495321</td>\n",
              "      <td>-62.939306</td>\n",
              "    </tr>\n",
              "    <tr>\n",
              "      <th>3</th>\n",
              "      <td>5.986585</td>\n",
              "      <td>53.052929</td>\n",
              "      <td>23</td>\n",
              "      <td>1.248741</td>\n",
              "      <td>-73.692717</td>\n",
              "    </tr>\n",
              "    <tr>\n",
              "      <th>4</th>\n",
              "      <td>1.560186</td>\n",
              "      <td>52.798952</td>\n",
              "      <td>44</td>\n",
              "      <td>0.717460</td>\n",
              "      <td>-77.941516</td>\n",
              "    </tr>\n",
              "  </tbody>\n",
              "</table>\n",
              "</div>\n",
              "    <div class=\"colab-df-buttons\">\n",
              "\n",
              "  <div class=\"colab-df-container\">\n",
              "    <button class=\"colab-df-convert\" onclick=\"convertToInteractive('df-a67a96d5-18cd-4747-97b8-6e6e56dcdf02')\"\n",
              "            title=\"Convert this dataframe to an interactive table.\"\n",
              "            style=\"display:none;\">\n",
              "\n",
              "  <svg xmlns=\"http://www.w3.org/2000/svg\" height=\"24px\" viewBox=\"0 -960 960 960\">\n",
              "    <path d=\"M120-120v-720h720v720H120Zm60-500h600v-160H180v160Zm220 220h160v-160H400v160Zm0 220h160v-160H400v160ZM180-400h160v-160H180v160Zm440 0h160v-160H620v160ZM180-180h160v-160H180v160Zm440 0h160v-160H620v160Z\"/>\n",
              "  </svg>\n",
              "    </button>\n",
              "\n",
              "  <style>\n",
              "    .colab-df-container {\n",
              "      display:flex;\n",
              "      gap: 12px;\n",
              "    }\n",
              "\n",
              "    .colab-df-convert {\n",
              "      background-color: #E8F0FE;\n",
              "      border: none;\n",
              "      border-radius: 50%;\n",
              "      cursor: pointer;\n",
              "      display: none;\n",
              "      fill: #1967D2;\n",
              "      height: 32px;\n",
              "      padding: 0 0 0 0;\n",
              "      width: 32px;\n",
              "    }\n",
              "\n",
              "    .colab-df-convert:hover {\n",
              "      background-color: #E2EBFA;\n",
              "      box-shadow: 0px 1px 2px rgba(60, 64, 67, 0.3), 0px 1px 3px 1px rgba(60, 64, 67, 0.15);\n",
              "      fill: #174EA6;\n",
              "    }\n",
              "\n",
              "    .colab-df-buttons div {\n",
              "      margin-bottom: 4px;\n",
              "    }\n",
              "\n",
              "    [theme=dark] .colab-df-convert {\n",
              "      background-color: #3B4455;\n",
              "      fill: #D2E3FC;\n",
              "    }\n",
              "\n",
              "    [theme=dark] .colab-df-convert:hover {\n",
              "      background-color: #434B5C;\n",
              "      box-shadow: 0px 1px 3px 1px rgba(0, 0, 0, 0.15);\n",
              "      filter: drop-shadow(0px 1px 2px rgba(0, 0, 0, 0.3));\n",
              "      fill: #FFFFFF;\n",
              "    }\n",
              "  </style>\n",
              "\n",
              "    <script>\n",
              "      const buttonEl =\n",
              "        document.querySelector('#df-a67a96d5-18cd-4747-97b8-6e6e56dcdf02 button.colab-df-convert');\n",
              "      buttonEl.style.display =\n",
              "        google.colab.kernel.accessAllowed ? 'block' : 'none';\n",
              "\n",
              "      async function convertToInteractive(key) {\n",
              "        const element = document.querySelector('#df-a67a96d5-18cd-4747-97b8-6e6e56dcdf02');\n",
              "        const dataTable =\n",
              "          await google.colab.kernel.invokeFunction('convertToInteractive',\n",
              "                                                    [key], {});\n",
              "        if (!dataTable) return;\n",
              "\n",
              "        const docLinkHtml = 'Like what you see? Visit the ' +\n",
              "          '<a target=\"_blank\" href=https://colab.research.google.com/notebooks/data_table.ipynb>data table notebook</a>'\n",
              "          + ' to learn more about interactive tables.';\n",
              "        element.innerHTML = '';\n",
              "        dataTable['output_type'] = 'display_data';\n",
              "        await google.colab.output.renderOutput(dataTable, element);\n",
              "        const docLink = document.createElement('div');\n",
              "        docLink.innerHTML = docLinkHtml;\n",
              "        element.appendChild(docLink);\n",
              "      }\n",
              "    </script>\n",
              "  </div>\n",
              "\n",
              "\n",
              "<div id=\"df-128300ae-782a-4733-9371-ce1ea9377c1f\">\n",
              "  <button class=\"colab-df-quickchart\" onclick=\"quickchart('df-128300ae-782a-4733-9371-ce1ea9377c1f')\"\n",
              "            title=\"Suggest charts\"\n",
              "            style=\"display:none;\">\n",
              "\n",
              "<svg xmlns=\"http://www.w3.org/2000/svg\" height=\"24px\"viewBox=\"0 0 24 24\"\n",
              "     width=\"24px\">\n",
              "    <g>\n",
              "        <path d=\"M19 3H5c-1.1 0-2 .9-2 2v14c0 1.1.9 2 2 2h14c1.1 0 2-.9 2-2V5c0-1.1-.9-2-2-2zM9 17H7v-7h2v7zm4 0h-2V7h2v10zm4 0h-2v-4h2v4z\"/>\n",
              "    </g>\n",
              "</svg>\n",
              "  </button>\n",
              "\n",
              "<style>\n",
              "  .colab-df-quickchart {\n",
              "      --bg-color: #E8F0FE;\n",
              "      --fill-color: #1967D2;\n",
              "      --hover-bg-color: #E2EBFA;\n",
              "      --hover-fill-color: #174EA6;\n",
              "      --disabled-fill-color: #AAA;\n",
              "      --disabled-bg-color: #DDD;\n",
              "  }\n",
              "\n",
              "  [theme=dark] .colab-df-quickchart {\n",
              "      --bg-color: #3B4455;\n",
              "      --fill-color: #D2E3FC;\n",
              "      --hover-bg-color: #434B5C;\n",
              "      --hover-fill-color: #FFFFFF;\n",
              "      --disabled-bg-color: #3B4455;\n",
              "      --disabled-fill-color: #666;\n",
              "  }\n",
              "\n",
              "  .colab-df-quickchart {\n",
              "    background-color: var(--bg-color);\n",
              "    border: none;\n",
              "    border-radius: 50%;\n",
              "    cursor: pointer;\n",
              "    display: none;\n",
              "    fill: var(--fill-color);\n",
              "    height: 32px;\n",
              "    padding: 0;\n",
              "    width: 32px;\n",
              "  }\n",
              "\n",
              "  .colab-df-quickchart:hover {\n",
              "    background-color: var(--hover-bg-color);\n",
              "    box-shadow: 0 1px 2px rgba(60, 64, 67, 0.3), 0 1px 3px 1px rgba(60, 64, 67, 0.15);\n",
              "    fill: var(--button-hover-fill-color);\n",
              "  }\n",
              "\n",
              "  .colab-df-quickchart-complete:disabled,\n",
              "  .colab-df-quickchart-complete:disabled:hover {\n",
              "    background-color: var(--disabled-bg-color);\n",
              "    fill: var(--disabled-fill-color);\n",
              "    box-shadow: none;\n",
              "  }\n",
              "\n",
              "  .colab-df-spinner {\n",
              "    border: 2px solid var(--fill-color);\n",
              "    border-color: transparent;\n",
              "    border-bottom-color: var(--fill-color);\n",
              "    animation:\n",
              "      spin 1s steps(1) infinite;\n",
              "  }\n",
              "\n",
              "  @keyframes spin {\n",
              "    0% {\n",
              "      border-color: transparent;\n",
              "      border-bottom-color: var(--fill-color);\n",
              "      border-left-color: var(--fill-color);\n",
              "    }\n",
              "    20% {\n",
              "      border-color: transparent;\n",
              "      border-left-color: var(--fill-color);\n",
              "      border-top-color: var(--fill-color);\n",
              "    }\n",
              "    30% {\n",
              "      border-color: transparent;\n",
              "      border-left-color: var(--fill-color);\n",
              "      border-top-color: var(--fill-color);\n",
              "      border-right-color: var(--fill-color);\n",
              "    }\n",
              "    40% {\n",
              "      border-color: transparent;\n",
              "      border-right-color: var(--fill-color);\n",
              "      border-top-color: var(--fill-color);\n",
              "    }\n",
              "    60% {\n",
              "      border-color: transparent;\n",
              "      border-right-color: var(--fill-color);\n",
              "    }\n",
              "    80% {\n",
              "      border-color: transparent;\n",
              "      border-right-color: var(--fill-color);\n",
              "      border-bottom-color: var(--fill-color);\n",
              "    }\n",
              "    90% {\n",
              "      border-color: transparent;\n",
              "      border-bottom-color: var(--fill-color);\n",
              "    }\n",
              "  }\n",
              "</style>\n",
              "\n",
              "  <script>\n",
              "    async function quickchart(key) {\n",
              "      const quickchartButtonEl =\n",
              "        document.querySelector('#' + key + ' button');\n",
              "      quickchartButtonEl.disabled = true;  // To prevent multiple clicks.\n",
              "      quickchartButtonEl.classList.add('colab-df-spinner');\n",
              "      try {\n",
              "        const charts = await google.colab.kernel.invokeFunction(\n",
              "            'suggestCharts', [key], {});\n",
              "      } catch (error) {\n",
              "        console.error('Error during call to suggestCharts:', error);\n",
              "      }\n",
              "      quickchartButtonEl.classList.remove('colab-df-spinner');\n",
              "      quickchartButtonEl.classList.add('colab-df-quickchart-complete');\n",
              "    }\n",
              "    (() => {\n",
              "      let quickchartButtonEl =\n",
              "        document.querySelector('#df-128300ae-782a-4733-9371-ce1ea9377c1f button');\n",
              "      quickchartButtonEl.style.display =\n",
              "        google.colab.kernel.accessAllowed ? 'block' : 'none';\n",
              "    })();\n",
              "  </script>\n",
              "</div>\n",
              "\n",
              "    </div>\n",
              "  </div>\n"
            ],
            "application/vnd.google.colaboratory.intrinsic+json": {
              "type": "dataframe",
              "variable_name": "df_fabrica_pastas",
              "summary": "{\n  \"name\": \"df_fabrica_pastas\",\n  \"rows\": 1000,\n  \"fields\": [\n    {\n      \"column\": \"Horas_Trabajadas\",\n      \"properties\": {\n        \"dtype\": \"number\",\n        \"std\": 2.92137361947486,\n        \"min\": 0.04632023004602859,\n        \"max\": 9.997176732861305,\n        \"num_unique_values\": 1000,\n        \"samples\": [\n          3.8089085663102153,\n          8.16599439471577,\n          4.626797856696064\n        ],\n        \"semantic_type\": \"\",\n        \"description\": \"\"\n      }\n    },\n    {\n      \"column\": \"Temperatura_Horno\",\n      \"properties\": {\n        \"dtype\": \"number\",\n        \"std\": 4.94466515799705,\n        \"min\": 35.39324758252697,\n        \"max\": 65.96553783922431,\n        \"num_unique_values\": 1000,\n        \"samples\": [\n          54.960211747682614,\n          53.154058422773886,\n          56.10516847762676\n        ],\n        \"semantic_type\": \"\",\n        \"description\": \"\"\n      }\n    },\n    {\n      \"column\": \"Trabajadores\",\n      \"properties\": {\n        \"dtype\": \"number\",\n        \"std\": 25,\n        \"min\": 10,\n        \"max\": 99,\n        \"num_unique_values\": 90,\n        \"samples\": [\n          34,\n          97,\n          84\n        ],\n        \"semantic_type\": \"\",\n        \"description\": \"\"\n      }\n    },\n    {\n      \"column\": \"Costos_Insumos\",\n      \"properties\": {\n        \"dtype\": \"number\",\n        \"std\": 2.864893443519954,\n        \"min\": -4.9934660923870045,\n        \"max\": 4.995577032504386,\n        \"num_unique_values\": 1000,\n        \"samples\": [\n          -0.30892788952421313,\n          2.511771369540428,\n          4.043597749938572\n        ],\n        \"semantic_type\": \"\",\n        \"description\": \"\"\n      }\n    },\n    {\n      \"column\": \"Produccion_Pasta\",\n      \"properties\": {\n        \"dtype\": \"number\",\n        \"std\": 19.545035677910114,\n        \"min\": -119.50607997135675,\n        \"max\": 0.8260925091568625,\n        \"num_unique_values\": 1000,\n        \"samples\": [\n          -85.69527153533222,\n          -49.78495909711104,\n          -68.31340706248646\n        ],\n        \"semantic_type\": \"\",\n        \"description\": \"\"\n      }\n    }\n  ]\n}"
            }
          },
          "metadata": {},
          "execution_count": 2
        }
      ]
    },
    {
      "cell_type": "code",
      "source": [],
      "metadata": {
        "id": "1SmsL03vAWn6"
      },
      "execution_count": null,
      "outputs": []
    },
    {
      "cell_type": "markdown",
      "source": [
        "# **Explicación del Código Adaptado:**\n",
        "\n",
        "\n",
        "a continuacion se retera el contenido de las variables, con pequeños detalles adicionales:\n",
        "\n",
        "**horas_trabajadas**: Esta variable simula el número de horas que las líneas de producción operan cada día. Como puede variar entre días, se genera como un número continuo entre 0 y 10 horas.\n",
        "\n",
        "**temperatura_horno:** Esta variable representa la temperatura promedio del horno, que es un factor crítico en la calidad y cantidad de la producción. Se modela como una distribución normal con una media de 50°C y una desviación estándar de 5°C, para reflejar pequeñas fluctuaciones diarias.\n",
        "\n",
        "**trabajadores:** Aquí simulamos el número de trabajadores en la fábrica de pastas, variando entre 10 y 100 operarios, lo que afecta directamente la capacidad de producción diaria.\n",
        "\n",
        "**costos_insumos:** Los costos de insumos son un factor fluctuante que puede impactar indirectamente en la cantidad de producción, ya que cambios en los costos podrían llevar a ajustes operativos. Para simplificar, usamos una distribución uniforme que genera costos diarios entre -5 y 5 (esto representa variaciones positivas y negativas en los costos, como ahorro o gasto adicional).\n",
        "\n",
        "**produccion_pasta:** Esta es la variable dependiente que buscamos predecir: la cantidad diaria de pasta producida en kilogramos. Está determinada por una combinación de los factores anteriores con coeficientes ponderados. Cada uno de estos coeficientes indica la relación de cada variable con la producción:\n",
        "\n",
        "3 * horas_trabajadas: A mayor cantidad de horas trabajadas, mayor producción.\n",
        "\n",
        "-2 * temperatura_horno: Si la temperatura del horno se desvía del óptimo, la producción disminuye.\n",
        "\n",
        "0.5 * trabajadores: Un mayor número de trabajadores mejora la producción, pero con una tasa menor que las horas trabajadas.\n",
        "\n",
        "2 * costos_insumos: Un aumento en los costos puede llevar a ajustes que aumenten la eficiencia, reflejado en una ligera mejora de la producción en este modelo.\n",
        "\n",
        "error: Se agrega un componente de error para simular variaciones no controladas en la producción diaria.\n",
        "\n",
        "\n",
        "# **DataFrame**\n",
        "\n",
        "Finalmente, los datos se almacenan en un DataFrame de pandas llamado df_fabrica_pastas, que contiene las variables simuladas y la producción de pasta diaria.\n",
        "\n",
        "# **Caso Imaginario de Aplicación**\n",
        "\n",
        "Este dataset simula el comportamiento diario de la producción de una fábrica de pastas durante 1000 días.\n",
        "\n",
        "El gerente de producción podría usar estos datos para analizar qué factores tienen un mayor impacto en la producción y ajustar las operaciones para maximizar la producción de pasta. Podría utilizar estos resultados para tomar decisiones tales como:\n",
        "\n",
        "¿Cuántas horas diarias debe trabajar la línea de producción para maximizar la eficiencia?\n",
        "\n",
        "¿Cuál es la temperatura óptima del horno para obtener el mejor rendimiento?\n",
        "\n",
        "¿Cuántos trabajadores son necesarios para asegurar una alta producción sin generar sobrecostos en mano de obra?\n",
        "\n",
        "# **Relación con Investigación Operativa**\n",
        "\n",
        "En un contexto real de Investigación Operativa, este modelo ayudaría a optimizar el proceso de producción mediante el análisis y simulación de diferentes escenarios.\n",
        "\n",
        "El modelo de regresión permite explorar el impacto de múltiples factores en la producción de pasta, lo que se alinea con los objetivos de maximización de eficiencia y minimización de costos, típicos de los problemas en esta disciplina.\n",
        "\n",
        "En este caso, con este enfoque, puedo apreciar cómo puedo utilizar tanto mis conocimientos en Investigación Operativa como herramientas modernas de Inteligencia Artificial (que estoy adquiriendo) para resolver problemas prácticos en la industria, con mayor facilidad y precision.\n",
        "\n",
        "\n",
        "\n",
        "\n",
        "\n",
        "\n"
      ],
      "metadata": {
        "id": "dRsZ427VSU_Q"
      }
    },
    {
      "cell_type": "markdown",
      "source": [
        "# **Interpretación del Dataset**\n",
        "\n",
        "El dataset utilizado en este análisis fue diseñado para simular la operación de una fábrica de pastas, con las siguientes variables clave:\n",
        "\n",
        "Horas_Trabajadas: El número de horas que los empleados dedican a la producción.\n",
        "\n",
        "Temperatura_Horno: La temperatura del horno durante la cocción, un factor crucial en la producción de pasta.\n",
        "\n",
        "Trabajadores: La cantidad de empleados en el turno de producción.\n",
        "\n",
        "Costos_Insumos: Los costos asociados a los insumos utilizados, como materia prima y energía.\n",
        "\n",
        "Produccion_Pasta: La cantidad de pasta producida (variable dependiente).\n",
        "\n",
        "El objetivo de este análisis fue comprender cómo estos factores impactan la producción de pasta. Al entrenar modelos de regresión, podemos determinar la importancia de cada variable en la predicción de la producción, lo que puede ayudar a optimizar los procesos en una situación real. Las relaciones entre las variables reflejan aspectos prácticos de una fábrica, como el efecto de las horas trabajadas y el costo de los insumos sobre la eficiencia y la cantidad de producción."
      ],
      "metadata": {
        "id": "fys4uhO_RTRa"
      }
    },
    {
      "cell_type": "markdown",
      "source": [
        "## Preprocesamiento\n",
        "\n",
        "Indique e implemente el pre-procesamiento necesario previo a entrenar los modelos"
      ],
      "metadata": {
        "id": "JBsmkKcXtaUH"
      }
    },
    {
      "cell_type": "markdown",
      "source": [
        "Atento a lo solicitado en la consigna del trabajo a realizar voy a proceder a la explicacion de lo que voy a ir haciendo en esta etapa del Pre Procesamiento para una mayor claridad y comprension de esta etapa"
      ],
      "metadata": {
        "id": "RMUMMT3WWNix"
      }
    },
    {
      "cell_type": "markdown",
      "source": [
        "# **El preprocesamiento de los datos**\n",
        "\n",
        "es una parte crucial , ya que garantiza que los modelos de regresión recibiran datos limpios, coherentes y en un formato adecuado para entrenar correctamente.\n",
        "\n",
        "En el caso de la fábrica de pastas, seguiremos un enfoque paso a paso para preparar el dataset que hemos generado.\n",
        "\n",
        "Aquí detallo el preprocesamiento que realizare, así como las razones detrás de cada paso y las explicaciones."
      ],
      "metadata": {
        "id": "qnq2xP_SWw78"
      }
    },
    {
      "cell_type": "markdown",
      "source": [
        "A continuacion detallo los pasos a seguir, habiendo consultado los apuntes de clase e informacion de distintas fuentes:\n",
        "\n",
        "# **Pasos del Preprocesamiento**\n",
        "\n",
        "Inspección de valores faltantes\n",
        "\n",
        "Escalado de las variables\n",
        "\n",
        "División del conjunto de datos en entrenamiento y prueba\n"
      ],
      "metadata": {
        "id": "R1ZKj8bvXtLK"
      }
    },
    {
      "cell_type": "markdown",
      "source": [
        "# **1. Inspección de valores faltantes**\n",
        "\n",
        "Es importante verificar si existen valores nulos o faltantes en el dataset, ya que los modelos de Machine Learning no funcionan bien con datos incompletos. Si encontramos valores faltantes, debemos decidir cómo manejarlos (eliminación o imputación)."
      ],
      "metadata": {
        "id": "SHmvQuG7a5qM"
      }
    },
    {
      "cell_type": "code",
      "source": [
        "# Revisamos si hay valores nulos en el DataFrame\n",
        "print(df_fabrica_pastas.isnull().sum())\n"
      ],
      "metadata": {
        "id": "bIOAjddrth75",
        "colab": {
          "base_uri": "https://localhost:8080/"
        },
        "outputId": "38753085-73d0-42d9-f141-1cf56eae72fe"
      },
      "execution_count": null,
      "outputs": [
        {
          "output_type": "stream",
          "name": "stdout",
          "text": [
            "Horas_Trabajadas     0\n",
            "Temperatura_Horno    0\n",
            "Trabajadores         0\n",
            "Costos_Insumos       0\n",
            "Produccion_Pasta     0\n",
            "dtype: int64\n"
          ]
        }
      ]
    },
    {
      "cell_type": "markdown",
      "source": [
        "# **Explicación:**\n",
        "\n",
        "El método isnull() verifica si existen valores faltantes en cada columna, y luego usamos sum() para contar cuántos valores nulos hay en cada una.\n",
        "\n",
        "Si encontráramos valores nulos, podríamos proceder con la imputación de esos valores o eliminarlos.\n",
        "\n",
        "En este caso, como los datos son generados sintéticamente, no esperamos valores faltantes."
      ],
      "metadata": {
        "id": "sn2bE4Ahtib7"
      }
    },
    {
      "cell_type": "markdown",
      "source": [
        "# **Interpretar los resultados obtenidos.**\n",
        "\n",
        "Dado que el resultado muestra que no hay valores nulos en ninguna de las columnas:\n",
        "\n",
        "Horas_Trabajadas: 0\n",
        "Temperatura_Horno: 0\n",
        "Trabajadores: 0\n",
        "Costos_Insumos: 0\n",
        "Produccion_Pasta: 0\n",
        "\n",
        "Observamos que no será necesario realizar procedimientos de imputación ni eliminación de datos. El dataset está completo, lo que nos permite avanzar directamente a los siguientes pasos del análisis y modelado sin necesidad de hacer ajustes para tratar datos faltantes.\n",
        "\n",
        "En resumen, este análisis  confirma que el dataset está limpio en cuanto a la presencia de valores nulos, lo que es una buena base para comenzar con el modelado y garantiza una mayor calidad en los resultados."
      ],
      "metadata": {
        "id": "xJdEyfRvbmxx"
      }
    },
    {
      "cell_type": "markdown",
      "source": [
        "# **2. Escalado de las variables**\n",
        "\n",
        "En muchos modelos de Machine Learning, es fundamental escalar las variables para que todas estén en el mismo rango de valores.\n",
        "\n",
        "Esto es particularmente importante para algoritmos de regresión, ya que las diferencias de escala entre las variables pueden afectar negativamente el proceso de entrenamiento.\n",
        "\n",
        "En este caso, usaremos\n",
        "\n",
        "MinMaxScaler o StandardScaler de la biblioteca scikit-learn\n",
        "\n",
        "para escalar las variables predictoras.\n",
        "\n",
        "Vamos a normalizar las variables para que se encuentren en un rango similar."
      ],
      "metadata": {
        "id": "dblxaitEc7hd"
      }
    },
    {
      "cell_type": "code",
      "source": [
        "from sklearn.preprocessing import StandardScaler\n",
        "\n",
        "# Separar las variables predictoras (X) y la variable dependiente (y)\n",
        "X = df_fabrica_pastas[['Horas_Trabajadas', 'Temperatura_Horno', 'Trabajadores', 'Costos_Insumos']]\n",
        "y = df_fabrica_pastas['Produccion_Pasta']\n",
        "\n",
        "# Aplicar escalado estándar (media = 0, desviación estándar = 1)\n",
        "scaler = StandardScaler()\n",
        "X_scaled = scaler.fit_transform(X)\n",
        "\n",
        "# Crear un nuevo DataFrame con las variables escaladas\n",
        "df_fabrica_pastas_scaled = pd.DataFrame(X_scaled, columns=['Horas_Trabajadas', 'Temperatura_Horno', 'Trabajadores', 'Costos_Insumos'])\n",
        "\n",
        "# Añadir la variable dependiente (producción) al DataFrame escalado\n",
        "df_fabrica_pastas_scaled['Produccion_Pasta'] = y.values\n",
        "\n",
        "# Mostrar las primeras filas del DataFrame escalado\n",
        "df_fabrica_pastas_scaled.head()\n"
      ],
      "metadata": {
        "id": "1QZfxp7utivZ",
        "colab": {
          "base_uri": "https://localhost:8080/",
          "height": 206
        },
        "outputId": "7092e687-c777-4942-e5a9-fd8df25837e6"
      },
      "execution_count": null,
      "outputs": [
        {
          "output_type": "execute_result",
          "data": {
            "text/plain": [
              "   Horas_Trabajadas  Temperatura_Horno  Trabajadores  Costos_Insumos  \\\n",
              "0         -0.396301           0.079727      0.768877        0.636740   \n",
              "1          1.576957          -1.451016      0.452287        1.069707   \n",
              "2          0.827893           0.284592     -0.220465       -0.837822   \n",
              "3          0.371251           0.517675     -1.249380        0.469708   \n",
              "4         -1.144685           0.466286     -0.418333        0.284170   \n",
              "\n",
              "   Produccion_Pasta  \n",
              "0        -48.758106  \n",
              "1        -18.878315  \n",
              "2        -62.939306  \n",
              "3        -73.692717  \n",
              "4        -77.941516  "
            ],
            "text/html": [
              "\n",
              "  <div id=\"df-b76e8f4c-d861-4fe8-bf96-dfecb958aa5f\" class=\"colab-df-container\">\n",
              "    <div>\n",
              "<style scoped>\n",
              "    .dataframe tbody tr th:only-of-type {\n",
              "        vertical-align: middle;\n",
              "    }\n",
              "\n",
              "    .dataframe tbody tr th {\n",
              "        vertical-align: top;\n",
              "    }\n",
              "\n",
              "    .dataframe thead th {\n",
              "        text-align: right;\n",
              "    }\n",
              "</style>\n",
              "<table border=\"1\" class=\"dataframe\">\n",
              "  <thead>\n",
              "    <tr style=\"text-align: right;\">\n",
              "      <th></th>\n",
              "      <th>Horas_Trabajadas</th>\n",
              "      <th>Temperatura_Horno</th>\n",
              "      <th>Trabajadores</th>\n",
              "      <th>Costos_Insumos</th>\n",
              "      <th>Produccion_Pasta</th>\n",
              "    </tr>\n",
              "  </thead>\n",
              "  <tbody>\n",
              "    <tr>\n",
              "      <th>0</th>\n",
              "      <td>-0.396301</td>\n",
              "      <td>0.079727</td>\n",
              "      <td>0.768877</td>\n",
              "      <td>0.636740</td>\n",
              "      <td>-48.758106</td>\n",
              "    </tr>\n",
              "    <tr>\n",
              "      <th>1</th>\n",
              "      <td>1.576957</td>\n",
              "      <td>-1.451016</td>\n",
              "      <td>0.452287</td>\n",
              "      <td>1.069707</td>\n",
              "      <td>-18.878315</td>\n",
              "    </tr>\n",
              "    <tr>\n",
              "      <th>2</th>\n",
              "      <td>0.827893</td>\n",
              "      <td>0.284592</td>\n",
              "      <td>-0.220465</td>\n",
              "      <td>-0.837822</td>\n",
              "      <td>-62.939306</td>\n",
              "    </tr>\n",
              "    <tr>\n",
              "      <th>3</th>\n",
              "      <td>0.371251</td>\n",
              "      <td>0.517675</td>\n",
              "      <td>-1.249380</td>\n",
              "      <td>0.469708</td>\n",
              "      <td>-73.692717</td>\n",
              "    </tr>\n",
              "    <tr>\n",
              "      <th>4</th>\n",
              "      <td>-1.144685</td>\n",
              "      <td>0.466286</td>\n",
              "      <td>-0.418333</td>\n",
              "      <td>0.284170</td>\n",
              "      <td>-77.941516</td>\n",
              "    </tr>\n",
              "  </tbody>\n",
              "</table>\n",
              "</div>\n",
              "    <div class=\"colab-df-buttons\">\n",
              "\n",
              "  <div class=\"colab-df-container\">\n",
              "    <button class=\"colab-df-convert\" onclick=\"convertToInteractive('df-b76e8f4c-d861-4fe8-bf96-dfecb958aa5f')\"\n",
              "            title=\"Convert this dataframe to an interactive table.\"\n",
              "            style=\"display:none;\">\n",
              "\n",
              "  <svg xmlns=\"http://www.w3.org/2000/svg\" height=\"24px\" viewBox=\"0 -960 960 960\">\n",
              "    <path d=\"M120-120v-720h720v720H120Zm60-500h600v-160H180v160Zm220 220h160v-160H400v160Zm0 220h160v-160H400v160ZM180-400h160v-160H180v160Zm440 0h160v-160H620v160ZM180-180h160v-160H180v160Zm440 0h160v-160H620v160Z\"/>\n",
              "  </svg>\n",
              "    </button>\n",
              "\n",
              "  <style>\n",
              "    .colab-df-container {\n",
              "      display:flex;\n",
              "      gap: 12px;\n",
              "    }\n",
              "\n",
              "    .colab-df-convert {\n",
              "      background-color: #E8F0FE;\n",
              "      border: none;\n",
              "      border-radius: 50%;\n",
              "      cursor: pointer;\n",
              "      display: none;\n",
              "      fill: #1967D2;\n",
              "      height: 32px;\n",
              "      padding: 0 0 0 0;\n",
              "      width: 32px;\n",
              "    }\n",
              "\n",
              "    .colab-df-convert:hover {\n",
              "      background-color: #E2EBFA;\n",
              "      box-shadow: 0px 1px 2px rgba(60, 64, 67, 0.3), 0px 1px 3px 1px rgba(60, 64, 67, 0.15);\n",
              "      fill: #174EA6;\n",
              "    }\n",
              "\n",
              "    .colab-df-buttons div {\n",
              "      margin-bottom: 4px;\n",
              "    }\n",
              "\n",
              "    [theme=dark] .colab-df-convert {\n",
              "      background-color: #3B4455;\n",
              "      fill: #D2E3FC;\n",
              "    }\n",
              "\n",
              "    [theme=dark] .colab-df-convert:hover {\n",
              "      background-color: #434B5C;\n",
              "      box-shadow: 0px 1px 3px 1px rgba(0, 0, 0, 0.15);\n",
              "      filter: drop-shadow(0px 1px 2px rgba(0, 0, 0, 0.3));\n",
              "      fill: #FFFFFF;\n",
              "    }\n",
              "  </style>\n",
              "\n",
              "    <script>\n",
              "      const buttonEl =\n",
              "        document.querySelector('#df-b76e8f4c-d861-4fe8-bf96-dfecb958aa5f button.colab-df-convert');\n",
              "      buttonEl.style.display =\n",
              "        google.colab.kernel.accessAllowed ? 'block' : 'none';\n",
              "\n",
              "      async function convertToInteractive(key) {\n",
              "        const element = document.querySelector('#df-b76e8f4c-d861-4fe8-bf96-dfecb958aa5f');\n",
              "        const dataTable =\n",
              "          await google.colab.kernel.invokeFunction('convertToInteractive',\n",
              "                                                    [key], {});\n",
              "        if (!dataTable) return;\n",
              "\n",
              "        const docLinkHtml = 'Like what you see? Visit the ' +\n",
              "          '<a target=\"_blank\" href=https://colab.research.google.com/notebooks/data_table.ipynb>data table notebook</a>'\n",
              "          + ' to learn more about interactive tables.';\n",
              "        element.innerHTML = '';\n",
              "        dataTable['output_type'] = 'display_data';\n",
              "        await google.colab.output.renderOutput(dataTable, element);\n",
              "        const docLink = document.createElement('div');\n",
              "        docLink.innerHTML = docLinkHtml;\n",
              "        element.appendChild(docLink);\n",
              "      }\n",
              "    </script>\n",
              "  </div>\n",
              "\n",
              "\n",
              "<div id=\"df-14f77390-f0b8-444f-a446-657287eb7ac0\">\n",
              "  <button class=\"colab-df-quickchart\" onclick=\"quickchart('df-14f77390-f0b8-444f-a446-657287eb7ac0')\"\n",
              "            title=\"Suggest charts\"\n",
              "            style=\"display:none;\">\n",
              "\n",
              "<svg xmlns=\"http://www.w3.org/2000/svg\" height=\"24px\"viewBox=\"0 0 24 24\"\n",
              "     width=\"24px\">\n",
              "    <g>\n",
              "        <path d=\"M19 3H5c-1.1 0-2 .9-2 2v14c0 1.1.9 2 2 2h14c1.1 0 2-.9 2-2V5c0-1.1-.9-2-2-2zM9 17H7v-7h2v7zm4 0h-2V7h2v10zm4 0h-2v-4h2v4z\"/>\n",
              "    </g>\n",
              "</svg>\n",
              "  </button>\n",
              "\n",
              "<style>\n",
              "  .colab-df-quickchart {\n",
              "      --bg-color: #E8F0FE;\n",
              "      --fill-color: #1967D2;\n",
              "      --hover-bg-color: #E2EBFA;\n",
              "      --hover-fill-color: #174EA6;\n",
              "      --disabled-fill-color: #AAA;\n",
              "      --disabled-bg-color: #DDD;\n",
              "  }\n",
              "\n",
              "  [theme=dark] .colab-df-quickchart {\n",
              "      --bg-color: #3B4455;\n",
              "      --fill-color: #D2E3FC;\n",
              "      --hover-bg-color: #434B5C;\n",
              "      --hover-fill-color: #FFFFFF;\n",
              "      --disabled-bg-color: #3B4455;\n",
              "      --disabled-fill-color: #666;\n",
              "  }\n",
              "\n",
              "  .colab-df-quickchart {\n",
              "    background-color: var(--bg-color);\n",
              "    border: none;\n",
              "    border-radius: 50%;\n",
              "    cursor: pointer;\n",
              "    display: none;\n",
              "    fill: var(--fill-color);\n",
              "    height: 32px;\n",
              "    padding: 0;\n",
              "    width: 32px;\n",
              "  }\n",
              "\n",
              "  .colab-df-quickchart:hover {\n",
              "    background-color: var(--hover-bg-color);\n",
              "    box-shadow: 0 1px 2px rgba(60, 64, 67, 0.3), 0 1px 3px 1px rgba(60, 64, 67, 0.15);\n",
              "    fill: var(--button-hover-fill-color);\n",
              "  }\n",
              "\n",
              "  .colab-df-quickchart-complete:disabled,\n",
              "  .colab-df-quickchart-complete:disabled:hover {\n",
              "    background-color: var(--disabled-bg-color);\n",
              "    fill: var(--disabled-fill-color);\n",
              "    box-shadow: none;\n",
              "  }\n",
              "\n",
              "  .colab-df-spinner {\n",
              "    border: 2px solid var(--fill-color);\n",
              "    border-color: transparent;\n",
              "    border-bottom-color: var(--fill-color);\n",
              "    animation:\n",
              "      spin 1s steps(1) infinite;\n",
              "  }\n",
              "\n",
              "  @keyframes spin {\n",
              "    0% {\n",
              "      border-color: transparent;\n",
              "      border-bottom-color: var(--fill-color);\n",
              "      border-left-color: var(--fill-color);\n",
              "    }\n",
              "    20% {\n",
              "      border-color: transparent;\n",
              "      border-left-color: var(--fill-color);\n",
              "      border-top-color: var(--fill-color);\n",
              "    }\n",
              "    30% {\n",
              "      border-color: transparent;\n",
              "      border-left-color: var(--fill-color);\n",
              "      border-top-color: var(--fill-color);\n",
              "      border-right-color: var(--fill-color);\n",
              "    }\n",
              "    40% {\n",
              "      border-color: transparent;\n",
              "      border-right-color: var(--fill-color);\n",
              "      border-top-color: var(--fill-color);\n",
              "    }\n",
              "    60% {\n",
              "      border-color: transparent;\n",
              "      border-right-color: var(--fill-color);\n",
              "    }\n",
              "    80% {\n",
              "      border-color: transparent;\n",
              "      border-right-color: var(--fill-color);\n",
              "      border-bottom-color: var(--fill-color);\n",
              "    }\n",
              "    90% {\n",
              "      border-color: transparent;\n",
              "      border-bottom-color: var(--fill-color);\n",
              "    }\n",
              "  }\n",
              "</style>\n",
              "\n",
              "  <script>\n",
              "    async function quickchart(key) {\n",
              "      const quickchartButtonEl =\n",
              "        document.querySelector('#' + key + ' button');\n",
              "      quickchartButtonEl.disabled = true;  // To prevent multiple clicks.\n",
              "      quickchartButtonEl.classList.add('colab-df-spinner');\n",
              "      try {\n",
              "        const charts = await google.colab.kernel.invokeFunction(\n",
              "            'suggestCharts', [key], {});\n",
              "      } catch (error) {\n",
              "        console.error('Error during call to suggestCharts:', error);\n",
              "      }\n",
              "      quickchartButtonEl.classList.remove('colab-df-spinner');\n",
              "      quickchartButtonEl.classList.add('colab-df-quickchart-complete');\n",
              "    }\n",
              "    (() => {\n",
              "      let quickchartButtonEl =\n",
              "        document.querySelector('#df-14f77390-f0b8-444f-a446-657287eb7ac0 button');\n",
              "      quickchartButtonEl.style.display =\n",
              "        google.colab.kernel.accessAllowed ? 'block' : 'none';\n",
              "    })();\n",
              "  </script>\n",
              "</div>\n",
              "\n",
              "    </div>\n",
              "  </div>\n"
            ],
            "application/vnd.google.colaboratory.intrinsic+json": {
              "type": "dataframe",
              "variable_name": "df_fabrica_pastas_scaled",
              "summary": "{\n  \"name\": \"df_fabrica_pastas_scaled\",\n  \"rows\": 1000,\n  \"fields\": [\n    {\n      \"column\": \"Horas_Trabajadas\",\n      \"properties\": {\n        \"dtype\": \"number\",\n        \"std\": 1.000500375312774,\n        \"min\": -1.6631475056898624,\n        \"max\": 1.7447821063875817,\n        \"num_unique_values\": 1000,\n        \"samples\": [\n          -0.37455127223154955,\n          1.1176460891498878,\n          -0.09444381300747552\n        ],\n        \"semantic_type\": \"\",\n        \"description\": \"\"\n      }\n    },\n    {\n      \"column\": \"Temperatura_Horno\",\n      \"properties\": {\n        \"dtype\": \"number\",\n        \"std\": 1.0005003753127737,\n        \"min\": -3.05557349342829,\n        \"max\": 3.130404100327917,\n        \"num_unique_values\": 1000,\n        \"samples\": [\n          0.9035934805594557,\n          0.5381375757200698,\n          1.1352632906321016\n        ],\n        \"semantic_type\": \"\",\n        \"description\": \"\"\n      }\n    },\n    {\n      \"column\": \"Trabajadores\",\n      \"properties\": {\n        \"dtype\": \"number\",\n        \"std\": 1.0005003753127748,\n        \"min\": -1.7638379323791997,\n        \"max\": 1.7582184715998175,\n        \"num_unique_values\": 90,\n        \"samples\": [\n          -0.8140699133286782,\n          1.6790711366789408,\n          1.1646134596932416\n        ],\n        \"semantic_type\": \"\",\n        \"description\": \"\"\n      }\n    },\n    {\n      \"column\": \"Costos_Insumos\",\n      \"properties\": {\n        \"dtype\": \"number\",\n        \"std\": 1.000500375312774,\n        \"min\": -1.7102440677565829,\n        \"max\": 1.7782072804339202,\n        \"num_unique_values\": 1000,\n        \"samples\": [\n          -0.07427319395936896,\n          0.9107933444565404,\n          1.4457496696102359\n        ],\n        \"semantic_type\": \"\",\n        \"description\": \"\"\n      }\n    },\n    {\n      \"column\": \"Produccion_Pasta\",\n      \"properties\": {\n        \"dtype\": \"number\",\n        \"std\": 19.545035677910114,\n        \"min\": -119.50607997135675,\n        \"max\": 0.8260925091568625,\n        \"num_unique_values\": 1000,\n        \"samples\": [\n          -85.69527153533222,\n          -49.78495909711104,\n          -68.31340706248646\n        ],\n        \"semantic_type\": \"\",\n        \"description\": \"\"\n      }\n    }\n  ]\n}"
            }
          },
          "metadata": {},
          "execution_count": 4
        }
      ]
    },
    {
      "cell_type": "markdown",
      "source": [
        "Interpretacion de los datos escalados"
      ],
      "metadata": {
        "id": "XMmexpGQcVoV"
      }
    },
    {
      "cell_type": "markdown",
      "source": [
        "# **3. División del conjunto de datos en entrenamiento y prueba**\n",
        "\n",
        "\n"
      ],
      "metadata": {
        "id": "l7IYQTgRyH8_"
      }
    },
    {
      "cell_type": "markdown",
      "source": [
        "Antes de entrenar los modelos, es fundamental dividir los datos en dos conjuntos: uno para entrenar el modelo y otro para evaluar su rendimiento. En este caso, he optado por una división del 80% para entrenamiento y el 20% para prueba, lo cual es una práctica común en problemas de regresión. Esta separación garantiza que el modelo no solo se ajuste bien a los datos de entrenamiento, sino que también pueda generalizar a nuevos datos no vistos previamente.\""
      ],
      "metadata": {
        "id": "qrjjezEn0s8g"
      }
    },
    {
      "cell_type": "markdown",
      "source": [],
      "metadata": {
        "id": "eOocOtKxdfNP"
      }
    },
    {
      "cell_type": "code",
      "source": [
        "from sklearn.model_selection import train_test_split\n",
        "\n",
        "# Dividimos los datos en entrenamiento (80%) y prueba (20%)\n",
        "X_train, X_test, y_train, y_test = train_test_split(X_scaled, y, test_size=0.2, random_state=42)\n",
        "\n",
        "# Verificamos el tamaño de los conjuntos\n",
        "print(f\"Tamaño de los datos de entrenamiento: {X_train.shape}\")\n",
        "print(f\"Tamaño de los datos de prueba: {X_test.shape}\")\n"
      ],
      "metadata": {
        "colab": {
          "base_uri": "https://localhost:8080/"
        },
        "id": "F6_PDRcDyf0Q",
        "outputId": "60a5a4d9-3ee6-4fe5-b9e9-e87e850e354f"
      },
      "execution_count": null,
      "outputs": [
        {
          "output_type": "stream",
          "name": "stdout",
          "text": [
            "Tamaño de los datos de entrenamiento: (800, 4)\n",
            "Tamaño de los datos de prueba: (200, 4)\n"
          ]
        }
      ]
    },
    {
      "cell_type": "markdown",
      "source": [
        "La división de los datos ha resultado en 800 observaciones para el conjunto de entrenamiento y 200 para el de prueba.\n",
        "\n",
        "Este equilibrio asegura que el modelo tiene suficiente información para aprender patrones significativos, mientras que los datos de prueba permiten evaluar el rendimiento del modelo en un entorno más cercano a la realidad.\n",
        "\n",
        "El uso de un random_state específico también nos garantiza la repetibilidad de los resultados, facilitando la revisión del modelo por terceros o su futura mejora"
      ],
      "metadata": {
        "id": "MdOPdpSQ1BBI"
      }
    },
    {
      "cell_type": "markdown",
      "source": [
        "# **Análisis Empresarial del Paso**\n",
        "\n",
        "Desde una perspectiva empresarial, este paso asegura que el modelo de predicción que estoy construyendo sea robusto y generalizable. Al evaluar el rendimiento del modelo con datos que no ha visto antes (los de prueba), permite obtener una mejor idea de cómo funcionará en situaciones reales, como nuevas producciones de pasta en la fábrica que no estén incluidas en el conjunto original de datos. Esto me permite confiar en que el modelo será útil en escenarios futuros, ayudando a predecir la producción y optimizar el proceso."
      ],
      "metadata": {
        "id": "Klpk5yLe1qWp"
      }
    },
    {
      "cell_type": "markdown",
      "source": [
        "## Modelos"
      ],
      "metadata": {
        "id": "lWk1FojvthZ-"
      }
    },
    {
      "cell_type": "markdown",
      "source": [
        "Elija al menos dos modelos de regresión de los vistos en clases.\n",
        "Entrene dichos modelos.\n",
        "Detalle los hiperparámetros elegidos."
      ],
      "metadata": {
        "id": "fcWx12wStpQJ"
      }
    },
    {
      "cell_type": "markdown",
      "source": [
        "Atento a la consigana, para eleccion de los modelos de regresion, he seleccionado dos de los vistos en clase para entrenarlos con los datos preprocesados de la fábrica de pastas. En primer lugar voy a utilizar la implementacion del modelo de regresion lineal  Múltiple y luego el de Regresión Ridge, dos de los modelos más comunes. Luego, detallaré los hiperparámetros utilizados para cada uno.\n",
        "\n",
        "# **1. Regresión Lineal Múltiple**\n",
        "\n",
        "La Regresión Lineal Múltiple es una extensión de la regresión lineal simple, que permite modelar la relación entre una variable dependiente y varias variables independientes. Este modelo intentará encontrar una ecuación lineal que minimice el error entre las predicciones y los valores observados."
      ],
      "metadata": {
        "id": "dYTYUjhM3USF"
      }
    },
    {
      "cell_type": "code",
      "source": [
        "from sklearn.linear_model import LinearRegression\n",
        "\n",
        "# Creamos una instancia del modelo de regresión lineal\n",
        "modelo_lineal = LinearRegression()\n",
        "\n",
        "# Entrenamos el modelo con los datos de entrenamiento\n",
        "modelo_lineal.fit(X_train, y_train)\n",
        "\n",
        "# Predecimos la producción de pasta en el conjunto de prueba\n",
        "y_pred_lineal = modelo_lineal.predict(X_test)\n",
        "\n",
        "# Mostramos los coeficientes del modelo entrenado\n",
        "print(f\"Coeficientes del modelo: {modelo_lineal.coef_}\")\n",
        "print(f\"Intercepto del modelo: {modelo_lineal.intercept_}\")\n"
      ],
      "metadata": {
        "colab": {
          "base_uri": "https://localhost:8080/"
        },
        "id": "WHzc6Wc_EL-Q",
        "outputId": "a70fd9ed-1c11-4267-b01f-905ecc8eaa57"
      },
      "execution_count": null,
      "outputs": [
        {
          "output_type": "stream",
          "name": "stdout",
          "text": [
            "Coeficientes del modelo: [ 8.73438498 -9.86040026 12.63996544  5.69138381]\n",
            "Intercepto del modelo: -59.18312605543349\n"
          ]
        }
      ]
    },
    {
      "cell_type": "code",
      "source": [],
      "metadata": {
        "id": "gasE2y2ttpaa"
      },
      "execution_count": null,
      "outputs": []
    },
    {
      "cell_type": "markdown",
      "source": [
        "# **Hiperparámetros:**\n",
        "\n",
        "coef_: Son los coeficientes que acompañan a cada variable independiente en la ecuación de regresión. Indican cómo afecta un cambio en la variable predictora en la variable objetivo (producción de pasta, en este caso).\n",
        "intercept_: Es el valor que toma la variable dependiente cuando todas las variables independientes son cero.\n",
        "\n",
        "Explicación:\n",
        "\n",
        "Este modelo no tiene hiperparámetros ajustables, ya que la regresión lineal estándar se basa en minimizar la suma de los errores cuadráticos Por lo tanto, el modelo ajusta automáticamente los coeficientes para que minimicen el error entre las predicciones y los valores observados.\n",
        "\n",
        "Este modelo asume que las relaciones entre las variables son lineales, por lo que es importante que las variables predictoras no estén altamente correlacionadas entre sí (esto se llama multicolinealidad).\n",
        "\n"
      ],
      "metadata": {
        "id": "geIOL3zsFZnV"
      }
    },
    {
      "cell_type": "markdown",
      "source": [
        "# **2. Regresión Ridge**\n",
        "\n",
        "La Regresión Ridge es una versión modificada de la regresión lineal que añade una penalización en los coeficientes para evitar que se vuelvan muy grandes. Este tipo de regularización ayuda a mitigar el problema de sobreajuste (overfitting) y mejora la capacidad de generalización del modelo."
      ],
      "metadata": {
        "id": "PGbPIv85G-vo"
      }
    },
    {
      "cell_type": "code",
      "source": [
        "from sklearn.linear_model import Ridge\n",
        "\n",
        "# Creamos una instancia del modelo de regresión Ridge\n",
        "modelo_ridge = Ridge(alpha=1.0)\n",
        "\n",
        "# Entrenamos el modelo con los datos de entrenamiento\n",
        "modelo_ridge.fit(X_train, y_train)\n",
        "\n",
        "# Predecimos la producción de pasta en el conjunto de prueba\n",
        "y_pred_ridge = modelo_ridge.predict(X_test)\n",
        "\n",
        "# Mostramos los coeficientes del modelo entrenado\n",
        "print(f\"Coeficientes del modelo Ridge: {modelo_ridge.coef_}\")\n",
        "print(f\"Intercepto del modelo Ridge: {modelo_ridge.intercept_}\")\n"
      ],
      "metadata": {
        "colab": {
          "base_uri": "https://localhost:8080/"
        },
        "id": "7ZLVDRe9HQFD",
        "outputId": "f7770aba-b500-45c2-b2ab-5bda9e0ce81b"
      },
      "execution_count": null,
      "outputs": [
        {
          "output_type": "stream",
          "name": "stdout",
          "text": [
            "Coeficientes del modelo Ridge: [ 8.72426448 -9.84979132 12.62459322  5.68415148]\n",
            "Intercepto del modelo Ridge: -59.183294985982506\n"
          ]
        }
      ]
    },
    {
      "cell_type": "markdown",
      "source": [
        "# **Hiperparámetros:**\n",
        "\n",
        "alpha: Es el hiperparámetro clave en la regresión Ridge. Este valor controla la cantidad de regularización aplicada a los coeficientes del modelo. Si alpha es cero, el modelo es equivalente a la regresión lineal ordinaria, mientras que a valores más altos de alpha, los coeficientes tienden a acercarse más a cero.\n",
        "En este caso, hemos usado un valor de alpha=1.0, lo cual es un valor moderado. Si quisiéramos más regularización (para evitar que los coeficientes crezcan mucho), podríamos aumentar alpha.\n",
        "\n",
        "Explicación:\n",
        "\n",
        "La regresión Ridge aplica una penalización al tamaño de los coeficientes, lo que reduce el riesgo de que el modelo se sobreajuste a los datos de entrenamiento.\n",
        "\n",
        "Al igual que en la regresión lineal, el modelo Ridge también ajusta una ecuación lineal, pero impone una penalización sobre la magnitud de los coeficientes, lo que puede ser útil cuando hay multicolinealidad en los datos.\n"
      ],
      "metadata": {
        "id": "eXbcYREgHxpa"
      }
    },
    {
      "cell_type": "markdown",
      "source": [
        "## Evaluación"
      ],
      "metadata": {
        "id": "Sxmj7GNVt5Q3"
      }
    },
    {
      "cell_type": "markdown",
      "source": [
        "Evalue el desempeño de los modelos indicando las métricas, metodología y conjunto de datos utilizados."
      ],
      "metadata": {
        "id": "rrvjbghzt8CN"
      }
    },
    {
      "cell_type": "markdown",
      "source": [
        "Cálculo de Métricas\n",
        "Ahora, evaluamos ambos modelos usando las métricas de desempeño sobre el conjunto de prueba."
      ],
      "metadata": {
        "id": "Tmr9sN1fKByd"
      }
    },
    {
      "cell_type": "code",
      "source": [
        "from sklearn.metrics import mean_squared_error, mean_absolute_error, r2_score\n",
        "\n",
        "# Cálculo de métricas para el modelo de Regresión Lineal\n",
        "mse_lineal = mean_squared_error(y_test, y_pred_lineal)\n",
        "mae_lineal = mean_absolute_error(y_test, y_pred_lineal)\n",
        "r2_lineal = r2_score(y_test, y_pred_lineal)\n",
        "\n",
        "# Cálculo de métricas para el modelo de Regresión Ridge\n",
        "mse_ridge = mean_squared_error(y_test, y_pred_ridge)\n",
        "mae_ridge = mean_absolute_error(y_test, y_pred_ridge)\n",
        "r2_ridge = r2_score(y_test, y_pred_ridge)\n",
        "\n",
        "# Mostramos los resultados\n",
        "print(f\"Regresión Lineal Múltiple - MSE: {mse_lineal}, MAE: {mae_lineal}, R²: {r2_lineal}\")\n",
        "print(f\"Regresión Ridge - MSE: {mse_ridge}, MAE: {mae_ridge}, R²: {r2_ridge}\")\n"
      ],
      "metadata": {
        "colab": {
          "base_uri": "https://localhost:8080/"
        },
        "id": "l5EOZmQMKHM_",
        "outputId": "60b3826b-57d2-4aa7-fa88-03e19fb63dfc"
      },
      "execution_count": null,
      "outputs": [
        {
          "output_type": "stream",
          "name": "stdout",
          "text": [
            "Regresión Lineal Múltiple - MSE: 1.0542404962290477, MAE: 0.8172729388817385, R²: 0.9969059032448233\n",
            "Regresión Ridge - MSE: 1.0579521320939063, MAE: 0.8195421286520453, R²: 0.996895009942463\n"
          ]
        }
      ]
    },
    {
      "cell_type": "markdown",
      "source": [
        "# **Evaluación de los Modelos: **\n",
        "\n",
        "**Regresión Lineal Múltiple y Ridge**\n",
        "\n",
        "Con los resultados obtenidos de las métricas de desempeño para ambos modelos, podemos realizar la siguiente evaluación:\n",
        "\n",
        "**Resultados de las Métricas:**\n",
        "\n",
        "**Regresión Lineal Múltiple:**\n",
        "\n",
        "MSE (Error Cuadrático Medio): 1.05\n",
        "\n",
        "MAE (Error Absoluto Medio): 0.82\n",
        "\n",
        "R² (Coeficiente de Determinación): 0.9969\n",
        "\n",
        "**Regresión Ridge:**\n",
        "\n",
        "MSE: 1.06\n",
        "\n",
        "MAE: 0.82\n",
        "\n",
        "R²: 0.9969\n",
        "\n",
        "Interpretación de las Métricas:\n",
        "\n",
        "Error Cuadrático Medio (MSE):\n",
        "\n",
        "El MSE mide el promedio de los errores al cuadrado, lo que penaliza más los errores grandes. En este caso, los valores de MSE para ambos modelos son muy cercanos (1.05 para la regresión lineal y 1.06 para Ridge), lo que significa que ambos modelos tienen un rendimiento casi idéntico en términos de errores.\n",
        "\n",
        "Un MSE de alrededor de 1 es un indicador de un buen ajuste, ya que los errores de predicción son pequeños.\n",
        "\n",
        "Error Absoluto Medio (MAE):\n",
        "\n",
        "El MAE mide el promedio de los errores absolutos entre las predicciones y los valores reales. Aquí, ambos modelos tienen un MAE de aproximadamente 0.82, lo que indica que en promedio, el modelo se equivoca por 0.82 unidades en la predicción de la producción de pasta.\n",
        "\n",
        "Esto es un error bajo, lo que sugiere que ambos modelos están realizando predicciones precisas.\n",
        "\n",
        "Coeficiente de Determinación (R²):\n",
        "\n",
        "El R² mide la proporción de la variabilidad de la variable dependiente (producción de pasta) que es explicada por las variables predictoras. Un valor de 0.9969 en ambos modelos indica que más del 99% de la variabilidad en la producción de pasta es explicada por las variables predictoras. Esto significa que ambos modelos están ajustándose extremadamente bien a los datos.\n",
        "\n",
        "# **Conclusiones y Comparación de Modelos:**\n",
        "\n",
        "Ambos modelos (Regresión Lineal Múltiple y Ridge) tienen un desempeño muy similar, con diferencias mínimas en las métricas.\n",
        "\n",
        "El hecho de que el R² sea cercano a 1 en ambos modelos indica que los modelos están capturando casi toda la variabilidad de los datos, lo que los hace altamente predictivos.\n",
        "\n",
        "**Regresión Ridge** no parece haber mejorado significativamente el rendimiento frente a la **regresión lineal múltiple**. Esto puede indicar que los datos no sufren de un problema de sobreajuste significativo, lo que a menudo es una de las razones para usar Ridge.\n",
        "\n",
        "# **Evaluación desde el Punto de Vista Empresarial:**\n",
        "\n",
        "**Alta Precisión en las Predicciones:**\n",
        "\n",
        "Dado el bajo error y el alto R², los modelos desarrollados pueden predecir con gran precisión la producción de pasta basándose en las variables como horas trabajadas, temperatura del horno, número de trabajadores y costos de insumos.\n",
        "\n",
        "Esta precisión es crucial para la toma de decisiones estratégicas, ya que permite a la empresa planificar mejor su producción y ajustar los recursos de manera eficiente.\n",
        "\n",
        "**Optimización de Recursos:**\n",
        "\n",
        "Con estas predicciones precisas, la empresa puede optimizar el uso de sus recursos (horas de trabajo, insumos, etc.) para maximizar la producción de pasta.\n",
        "\n",
        "Por ejemplo, si se identifican relaciones entre variables que mejoran la producción, como un número óptimo de trabajadores o una temperatura del horno específica, la empresa puede implementar estos ajustes para aumentar la eficiencia operativa.\n",
        "\n",
        "**Monitoreo y Control de Costos:**\n",
        "\n",
        "La capacidad de predecir la producción también puede permitir a la empresa controlar mejor los costos.\n",
        "\n",
        "Si la producción puede ajustarse en función de los costos de insumos, se puede lograr una mejor gestión financiera al reducir desperdicios o sobrecostos.\n",
        "\n",
        "**Uso Estratégico de la Tecnología:**\n",
        "\n",
        "La implementación de estos modelos en un sistema de predicción automatizada podría permitir a la empresa tener un monitoreo continuo y en tiempo real de la producción, lo que facilitaría la toma de decisiones proactivas, como el ajuste de horarios o el control de la temperatura en el horno para mantener la producción dentro de los límites ideales.\n",
        "\n",
        "**Posibles Mejoras y Recomendaciones:**\n",
        "\n",
        "Incorporación de más variables: Aunque los resultados actuales son muy buenos, la empresa podría explorar la inclusión de más variables que impacten en la producción, como la calidad de los insumos o el rendimiento de las máquinas.\n",
        "\n",
        "Prueba con diferentes regularizaciones en Ridge:\n",
        "\n",
        "Experimentar con diferentes valores de alpha en el modelo Ridge para evaluar si una regularización más fuerte o más débil mejora aún más el rendimiento.\n",
        "\n",
        "Simulaciones con escenarios futuros: Utilizar estos modelos para realizar simulaciones de producción con diferentes escenarios, como variaciones en los costos o cambios en la cantidad de trabajadores, para evaluar cómo se puede ajustar mejor la operación ante fluctuaciones externas.\n",
        "\n",
        "\n",
        "\n",
        "\n",
        "\n"
      ],
      "metadata": {
        "id": "F32t2fPaMMVe"
      }
    },
    {
      "cell_type": "markdown",
      "source": [],
      "metadata": {
        "id": "IJSczHPrQE5b"
      }
    },
    {
      "cell_type": "code",
      "source": [],
      "metadata": {
        "id": "SCO-kgyct6q8"
      },
      "execution_count": null,
      "outputs": []
    },
    {
      "cell_type": "markdown",
      "source": [
        "\n",
        "## Ejercicio de hiper parámetro tunning.\n",
        "\n",
        "Modificar uno de los modelos para probarlo con diferentes valores para uno de sus hiperparámetros, indicando para cuáles se evidencia subajuste y en cuáles sobreajuste.\n",
        "\n",
        "Grafique la métrica de desempeño vs los valores del hiperarámetro para observar ambas curvas de error durante el entrenamiento y durante el testeo.\n",
        "\n",
        "\n"
      ],
      "metadata": {
        "id": "ec3tJxLJtVFL"
      }
    },
    {
      "cell_type": "markdown",
      "source": [
        "Para abordar el ejercicio de ajuste de hiperparámetros (hyperparameter tuning) con el modelo de Ridge Regression, realizare los siguientes pasos.\n",
        "\n",
        "Voy a ajustar el hiperparámetro alpha en el modelo de Ridge, que controla la regularización. Valores bajos de alpha pueden llevar a sobreajuste (el modelo se adapta demasiado a los datos de entrenamiento), mientras que valores altos pueden llevar a subajuste (el modelo no captura adecuadamente las relaciones en los datos).\n",
        "\n",
        "Paso 1: Configurar el hiperparámetro alpha\n",
        "\n",
        "Probaremos diferentes valores de alpha para ver cómo afectan al rendimiento del modelo.\n",
        "\n",
        "Paso 2: Métricas de Evaluación\n",
        "\n",
        "Usaremos el Error Cuadrático Medio (MSE) para evaluar el desempeño del modelo en los datos de entrenamiento y prueba. Luego, graficaremos las curvas de error para identificar subajuste y sobreajuste.\n",
        "\n",
        "Código para el Tuning del Hiperparámetro alpha\n",
        "\n",
        "Este código ajusta el modelo Ridge con varios valores de alpha y calcula el MSE para los conjuntos de entrenamiento y prueba:"
      ],
      "metadata": {
        "id": "dNrafvZURR1F"
      }
    },
    {
      "cell_type": "code",
      "source": [
        "import numpy as np\n",
        "import matplotlib.pyplot as plt\n",
        "from sklearn.linear_model import Ridge\n",
        "from sklearn.metrics import mean_squared_error\n",
        "\n",
        "# Definir un rango de valores para el hiperparámetro alpha\n",
        "alphas = np.logspace(-4, 4, 50)  # Probar valores de alpha desde 10^-4 hasta 10^4\n",
        "\n",
        "# Inicializar listas para guardar los errores\n",
        "mse_train = []\n",
        "mse_test = []\n",
        "\n",
        "# Loop para probar cada valor de alpha\n",
        "for alpha in alphas:\n",
        "    # Crear y entrenar el modelo Ridge con un valor específico de alpha\n",
        "    modelo_ridge = Ridge(alpha=alpha)\n",
        "    modelo_ridge.fit(X_train, y_train)\n",
        "\n",
        "    # Predecir en el conjunto de entrenamiento y prueba\n",
        "    y_train_pred = modelo_ridge.predict(X_train)\n",
        "    y_test_pred = modelo_ridge.predict(X_test)\n",
        "\n",
        "    # Calcular el MSE para entrenamiento y prueba\n",
        "    mse_train.append(mean_squared_error(y_train, y_train_pred))\n",
        "    mse_test.append(mean_squared_error(y_test, y_test_pred))\n",
        "\n",
        "# Graficar los resultados\n",
        "plt.figure(figsize=(10, 6))\n",
        "plt.plot(alphas, mse_train, label='MSE Entrenamiento', color='blue', marker='o')\n",
        "plt.plot(alphas, mse_test, label='MSE Prueba', color='red', marker='x')\n",
        "plt.xscale('log')  # Escala logarítmica para visualizar mejor los valores de alpha\n",
        "plt.xlabel('Alpha')\n",
        "plt.ylabel('Error Cuadrático Medio (MSE)')\n",
        "plt.title('Curvas de MSE vs Alpha para el modelo Ridge')\n",
        "plt.legend()\n",
        "plt.grid(True)\n",
        "plt.show()\n"
      ],
      "metadata": {
        "colab": {
          "base_uri": "https://localhost:8080/",
          "height": 569
        },
        "id": "Fhh2VvzHSiLO",
        "outputId": "5472a769-fedc-433b-8e82-f0d20d14d6cf"
      },
      "execution_count": null,
      "outputs": [
        {
          "output_type": "display_data",
          "data": {
            "text/plain": [
              "<Figure size 1000x600 with 1 Axes>"
            ],
            "image/png": "[encoded data removed]"
          },
          "metadata": {}
        }
      ]
    },
    {
      "cell_type": "markdown",
      "source": [],
      "metadata": {
        "id": "WKoP_C5dunUB"
      }
    },
    {
      "cell_type": "markdown",
      "source": [
        "Interpretación del gráfico:\n",
        "\n",
        "Rango de alpha muy bajo (10⁻³ a 10¹):\n",
        "\n",
        "En este rango, los valores de MSE para los conjuntos de entrenamiento y prueba son muy similares y extremadamente bajos. Esto indica que el modelo tiene un buen ajuste. Aquí el alpha es muy pequeño, lo que significa que hay poca regularización, y el modelo está capturando bien las relaciones en los datos.\n",
        "Rango de alpha moderado (10⁰ a 10²):\n",
        "\n",
        "A medida que alpha aumenta, comenzamos a ver un pequeño aumento en el MSE, pero todavía los errores de entrenamiento y prueba son similares. Esto indica que el modelo sigue teniendo un buen rendimiento y no hay signos claros de sobreajuste ni subajuste.\n",
        "\n",
        "Sin embargo, el error comienza a crecer más rápido en el conjunto de entrenamiento que en el conjunto de prueba, lo que puede ser una señal inicial de subajuste.\n",
        "\n",
        "Rango de alpha muy alto (mayor que 10²):\n",
        "\n",
        "En este punto, el MSE en ambos conjuntos comienza a crecer de manera significativa, pero con una diferencia notable: el error de entrenamiento crece más rápidamente que el de prueba. Esto indica un subajuste.\n",
        "\n",
        "Cuando alpha es muy alto, la regularización es tan fuerte que el modelo no es capaz de capturar correctamente las relaciones en los datos, lo que provoca que tanto el error en el entrenamiento como en la prueba aumenten.\n",
        "\n",
        "Conclusiones sobre subajuste y sobreajuste:\n",
        "\n",
        "Subajuste: Se observa en valores altos de alpha (a partir de aproximadamente\n",
        "𝛼 mayor que 10².  En este rango, el modelo se vuelve demasiado simplificado y no puede captar la complejidad de los datos, lo que se refleja en un aumento significativo del error en ambos conjuntos, pero especialmente en el conjunto de entrenamiento.\n",
        "\n",
        "Sobreajuste: En los valores bajos de alpha (de 10⁻4 a 10⁻¹), no se observa sobreajuste en el gráfico, ya que el error en el conjunto de entrenamiento y el de prueba son similares. Esto indica que el modelo está generalizando bien.\n",
        "\n",
        "Recomendación:\n",
        "\n",
        "El valor óptimo de alpha se encuentra en un rango moderado, posiblemente entre 10⁻¹ y 10¹, donde el MSE se mantiene bajo y estable tanto para el conjunto de entrenamiento como para el conjunto de prueba.\n",
        "\n",
        "Para la empresa, esto implica que la selección adecuada de alpha ayuda a crear un modelo que no está ni sobreajustado ni subajustado, proporcionando predicciones más confiables y generalizables a nuevos datos. Esto es clave para cualquier aplicación empresarial, ya que un modelo que generalice bien puede tener un impacto positivo en la toma de decisiones basada en datos."
      ],
      "metadata": {
        "id": "Io1DhPbxYtUD"
      }
    },
    {
      "cell_type": "markdown",
      "source": [
        "a continuacion detallo algunas ventajas de llevar a la practica modelos como los definidos en este desafio, al contar con un modelo predictivo bien ajustado y evaluado\n",
        "\n",
        "# **Decisiones de Producción basadas en Modelos Predictivos**\n",
        "\n",
        "En términos concretos, si tienemos un objetivo de producción o una meta específica (por ejemplo, cuánto producir en una temporada o cuánto stock tener), podemos utilizar el modelo que he ajustado para:\n",
        "\n",
        "**Predecir la demanda futura**: Con base en los datos históricos de ventas, comportamiento de los clientes, y otros factores (como estacionalidad o campañas de marketing), el modelo puede estimar cuánto se demandará en un periodo específico.\n",
        "\n",
        "**Evaluar el impacto de las variables clave**: Las variables que alimentan el modelo, como precios, marketing, recursos disponibles, entre otras, me permitirán simular diferentes escenarios. Por ejemplo:\n",
        "\n",
        "¿Qué pasa si aumento el presupuesto de marketing en un 10%?\n",
        "\n",
        "¿Cómo varía la demanda si ajusto los precios en un 5%?\n",
        "\n",
        "¿Cómo afectará la demanda una nueva tendencia en el mercado?\n",
        "\n",
        "Optimizar la producción: Con el modelo predictivo ajustado, puedo calcular no solo cuántas unidades producir, sino también planificar cuándo producirlas, evitando excesos de inventario o faltantes. Esto te ayuda a:\n",
        "\n",
        "Evitar costos innecesarios por sobreproducción.\n",
        "\n",
        "Prevenir pérdidas de ventas debido a no poder cumplir con la demanda.\n",
        "\n",
        "Simulaciones con el Modelo\n",
        "\n",
        "Una vez que tengo el modelo bien calibrado, puedo usarlo para simular diferentes escenarios de producción. Por ejemplo:\n",
        "\n",
        "Si proyecto que la demanda en el próximo trimestre será de 10,000 unidades basándome en los datos actuales, puedo calcular cuánto stock producir, cuántos insumos comprar, y cómo organizar la logística de distribución.\n",
        "\n",
        "El modelo puede ayudarme a ajustar la producción de manera dinámica si observo que las variables cambian, como una demanda más alta de lo esperado o interrupciones en la cadena de suministro.\n",
        "\n",
        "¿Qué debo hacer con las variables que intervienen?\n",
        "\n",
        "La clave está en que el modelo me muestra cómo cada variable afecta la producción. Dependiendo de las variables que están en el modelo (precio, promociones, estacionalidad, comportamiento del cliente, entre otras), puedo ajustar estas variables para:\n",
        "\n",
        "Maximizar la producción sin generar sobrecostos.\n",
        "\n",
        "Minimizar riesgos al anticiparte a picos de demanda.\n",
        "\n",
        "Ajustar la oferta en función de los patrones esperados.\n",
        "\n",
        "# **Conclusión Final**\n",
        "\n",
        "El modelo no solo me ayuda a predecir cuánta demanda habrá, sino también a optimizar todas las decisiones relacionadas con la producción. Desde la cantidad exacta de insumos que necesitare hasta el momento ideal para producir, puedo usar el modelo para simular diferentes escenarios y asegurarteme de tomar las mejores decisiones, minimizando riesgos y maximizando el rendimiento operativo y financiero.\n",
        "\n",
        "Es una herramienta esencial para hacer que las operaciones productivas sean más eficientes y rentables, permitiendo al empresario ajustarse de manera proactiva a las demandas del mercado y las condiciones cambiantes del entorno."
      ],
      "metadata": {
        "id": "EdMIo1Y6dQli"
      }
    },
    {
      "cell_type": "code",
      "source": [],
      "metadata": {
        "id": "U4ACQYhrunek"
      },
      "execution_count": null,
      "outputs": []
    },
    {
      "cell_type": "markdown",
      "source": [
        "# **Fuentes de inspiración**\n",
        "1. Prompt de ChatGPT: \"explicame como puedo convertir la generacion del data set sintetico para entrenar modelos de regresion que realice, en un data set para emplear el analisis de regresion en un estudio de maximizacion y minimizacion de un problema de Investigacion operativa.\"\n",
        "2. Documentación de Scikit-learn: https://scikit-learn.org/stable/documentation.html\n",
        "3. Tutorial \"Understanding Decision Tree Regression\" en Towards Data Science: https://towardsdatascience.com\n",
        "4.\tPrompt de Copilot: \"Guia de pasos para desarrollar un problema de regresión en Google”\n",
        "5.\tcolab.research.google.com\n",
        "6.\tyoutube.com (Como Realizar un Análisis de Regresión Lineal en Python (Google Colab))\n",
        "7.\tidival.org\n",
        "8.\tcienciadedatos.net\n",
        "9.\tApuntes de la catedra y trabajos realizados sobre Regresion durante la cursada. Profesora Ana Diedrichs\n"
      ],
      "metadata": {
        "id": "F4PC5XUBN-oi"
      }
    },
    {
      "cell_type": "markdown",
      "source": [],
      "metadata": {
        "id": "1mx4qsYDQqZe"
      }
    }
  ]
}