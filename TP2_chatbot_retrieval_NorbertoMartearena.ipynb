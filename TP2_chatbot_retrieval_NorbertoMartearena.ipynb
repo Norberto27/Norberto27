{
  "nbformat": 4,
  "nbformat_minor": 0,
  "metadata": {
    "colab": {
      "provenance": [],
      "authorship_tag": "ABX9TyPNjaX0KymengdJyXq3muM0",
      "include_colab_link": true
    },
    "kernelspec": {
      "name": "python3",
      "display_name": "Python 3"
    },
    "language_info": {
      "name": "python"
    }
  },
  "cells": [
    {
      "cell_type": "markdown",
      "metadata": {
        "id": "view-in-github",
        "colab_type": "text"
      },
      "source": [
        "<a href=\"https://colab.research.google.com/github/Norberto27/Norberto27/blob/main/TP2_chatbot_retrieval_NorbertoMartearena.ipynb\" target=\"_parent\"><img src=\"https://colab.research.google.com/assets/colab-badge.svg\" alt=\"Open In Colab\"/></a>"
      ]
    },
    {
      "cell_type": "markdown",
      "source": [
        "voy a realizar aqui, la actividad sobre la creación de un chatbot basado en recuperación de información y embeddings, para ello seguire los siguientes pasos.\n",
        "\n",
        "Paso 1: Definir la Aplicación (1.1)\n",
        "\n",
        "Aplicación: Consultoría empresarial para pequeñas y medianas empresas.\n",
        "\n",
        "Objetivo: El chatbot responderá a preguntas frecuentes sobre coaching, mejora del desempeño organizacional y servicios de consultoría."
      ],
      "metadata": {
        "id": "KdduOhaQLDoB"
      }
    },
    {
      "cell_type": "markdown",
      "source": [
        "Paso 2: Crear el Dataset de Preguntas y Respuestas (1.2)\n",
        "\n",
        "Para ello, defino el siguiente dataset de preguntas y respuestas con 10 elementos:\n",
        "\n",
        "Pregunta: ¿Qué es el coaching empresarial?\n",
        "\n",
        "Respuesta: El coaching empresarial es una herramienta para mejorar el rendimiento de los empleados mediante el desarrollo de habilidades y la motivación.\n",
        "\n",
        "Pregunta: ¿Cómo puede ayudar el coaching a una empresa?\n",
        "\n",
        "Respuesta: El coaching ayuda a mejorar la productividad, las relaciones laborales y la toma de decisiones dentro de una organización.\n",
        "\n",
        "Pregunta: ¿Cuáles son los beneficios de contratar a un consultor empresarial?\n",
        "\n",
        "Respuesta: Un consultor aporta una visión externa, detecta oportunidades de mejora y ofrece soluciones estratégicas para el crecimiento.\n",
        "\n",
        "Pregunta: ¿Qué es una consultoría estratégica?\n",
        "\n",
        "Respuesta: Es un servicio que se centra en el análisis y la planificación para ayudar a una empresa a alcanzar sus objetivos a largo plazo.\n",
        "\n",
        "Pregunta: ¿Cómo se diferencia el coaching del mentoring?\n",
        "\n",
        "Respuesta: El coaching se enfoca en desarrollar habilidades específicas, mientras que el mentoring es más amplio y se basa en la experiencia del mentor.\n",
        "\n",
        "Pregunta: ¿Cómo mejorar la productividad en el equipo?\n",
        "\n",
        "Respuesta: La productividad puede mejorarse con la implementación de metas claras, mejor comunicación y capacitaciones continuas.\n",
        "\n",
        "Pregunta: ¿Cuánto tiempo suele durar un proceso de coaching?\n",
        "\n",
        "Respuesta: Depende del caso, pero generalmente puede durar entre 3 y 6 meses, con sesiones regulares.\n",
        "\n",
        "Pregunta: ¿Qué es la consultoría de gestión del cambio?\n",
        "\n",
        "Respuesta: Es un servicio que ayuda a las organizaciones a gestionar la transición durante los cambios internos o externos de manera efectiva.\n",
        "\n",
        "Pregunta: ¿Cómo se mide el éxito de un proceso de coaching?\n",
        "\n",
        "Respuesta: El éxito puede medirse a través de indicadores de rendimiento, como el aumento de la productividad o la satisfacción del empleado.\n",
        "\n",
        "Pregunta: ¿Cuál es la diferencia entre consultoría y asesoría?\n",
        "\n",
        "Respuesta: La consultoría implica un análisis profundo y recomendaciones detalladas, mientras que la asesoría suele ser más puntual y directa."
      ],
      "metadata": {
        "id": "nD3D359VLowS"
      }
    },
    {
      "cell_type": "code",
      "source": [
        "!pip install -U spacy\n",
        "!python -m spacy download es_core_news_sm\n"
      ],
      "metadata": {
        "colab": {
          "base_uri": "https://localhost:8080/"
        },
        "id": "H-mKC2L7oobC",
        "outputId": "3ad80520-0cc3-4b91-8fca-c0d5e198285b"
      },
      "execution_count": null,
      "outputs": [
        {
          "output_type": "stream",
          "name": "stdout",
          "text": [
            "Requirement already satisfied: spacy in /usr/local/lib/python3.10/dist-packages (3.8.2)\n",
            "Requirement already satisfied: spacy-legacy<3.1.0,>=3.0.11 in /usr/local/lib/python3.10/dist-packages (from spacy) (3.0.12)\n",
            "Requirement already satisfied: spacy-loggers<2.0.0,>=1.0.0 in /usr/local/lib/python3.10/dist-packages (from spacy) (1.0.5)\n",
            "Requirement already satisfied: murmurhash<1.1.0,>=0.28.0 in /usr/local/lib/python3.10/dist-packages (from spacy) (1.0.10)\n",
            "Requirement already satisfied: cymem<2.1.0,>=2.0.2 in /usr/local/lib/python3.10/dist-packages (from spacy) (2.0.8)\n",
            "Requirement already satisfied: preshed<3.1.0,>=3.0.2 in /usr/local/lib/python3.10/dist-packages (from spacy) (3.0.9)\n",
            "Requirement already satisfied: thinc<8.4.0,>=8.3.0 in /usr/local/lib/python3.10/dist-packages (from spacy) (8.3.2)\n",
            "Requirement already satisfied: wasabi<1.2.0,>=0.9.1 in /usr/local/lib/python3.10/dist-packages (from spacy) (1.1.3)\n",
            "Requirement already satisfied: srsly<3.0.0,>=2.4.3 in /usr/local/lib/python3.10/dist-packages (from spacy) (2.4.8)\n",
            "Requirement already satisfied: catalogue<2.1.0,>=2.0.6 in /usr/local/lib/python3.10/dist-packages (from spacy) (2.0.10)\n",
            "Requirement already satisfied: weasel<0.5.0,>=0.1.0 in /usr/local/lib/python3.10/dist-packages (from spacy) (0.4.1)\n",
            "Requirement already satisfied: typer<1.0.0,>=0.3.0 in /usr/local/lib/python3.10/dist-packages (from spacy) (0.12.5)\n",
            "Requirement already satisfied: tqdm<5.0.0,>=4.38.0 in /usr/local/lib/python3.10/dist-packages (from spacy) (4.66.5)\n",
            "Requirement already satisfied: requests<3.0.0,>=2.13.0 in /usr/local/lib/python3.10/dist-packages (from spacy) (2.32.3)\n",
            "Requirement already satisfied: pydantic!=1.8,!=1.8.1,<3.0.0,>=1.7.4 in /usr/local/lib/python3.10/dist-packages (from spacy) (2.9.2)\n",
            "Requirement already satisfied: jinja2 in /usr/local/lib/python3.10/dist-packages (from spacy) (3.1.4)\n",
            "Requirement already satisfied: setuptools in /usr/local/lib/python3.10/dist-packages (from spacy) (71.0.4)\n",
            "Requirement already satisfied: packaging>=20.0 in /usr/local/lib/python3.10/dist-packages (from spacy) (24.1)\n",
            "Requirement already satisfied: langcodes<4.0.0,>=3.2.0 in /usr/local/lib/python3.10/dist-packages (from spacy) (3.4.1)\n",
            "Requirement already satisfied: numpy>=1.19.0 in /usr/local/lib/python3.10/dist-packages (from spacy) (2.0.2)\n",
            "Requirement already satisfied: language-data>=1.2 in /usr/local/lib/python3.10/dist-packages (from langcodes<4.0.0,>=3.2.0->spacy) (1.2.0)\n",
            "Requirement already satisfied: annotated-types>=0.6.0 in /usr/local/lib/python3.10/dist-packages (from pydantic!=1.8,!=1.8.1,<3.0.0,>=1.7.4->spacy) (0.7.0)\n",
            "Requirement already satisfied: pydantic-core==2.23.4 in /usr/local/lib/python3.10/dist-packages (from pydantic!=1.8,!=1.8.1,<3.0.0,>=1.7.4->spacy) (2.23.4)\n",
            "Requirement already satisfied: typing-extensions>=4.6.1 in /usr/local/lib/python3.10/dist-packages (from pydantic!=1.8,!=1.8.1,<3.0.0,>=1.7.4->spacy) (4.12.2)\n",
            "Requirement already satisfied: charset-normalizer<4,>=2 in /usr/local/lib/python3.10/dist-packages (from requests<3.0.0,>=2.13.0->spacy) (3.3.2)\n",
            "Requirement already satisfied: idna<4,>=2.5 in /usr/local/lib/python3.10/dist-packages (from requests<3.0.0,>=2.13.0->spacy) (3.10)\n",
            "Requirement already satisfied: urllib3<3,>=1.21.1 in /usr/local/lib/python3.10/dist-packages (from requests<3.0.0,>=2.13.0->spacy) (2.2.3)\n",
            "Requirement already satisfied: certifi>=2017.4.17 in /usr/local/lib/python3.10/dist-packages (from requests<3.0.0,>=2.13.0->spacy) (2024.8.30)\n",
            "Requirement already satisfied: blis<1.1.0,>=1.0.0 in /usr/local/lib/python3.10/dist-packages (from thinc<8.4.0,>=8.3.0->spacy) (1.0.1)\n",
            "Requirement already satisfied: confection<1.0.0,>=0.0.1 in /usr/local/lib/python3.10/dist-packages (from thinc<8.4.0,>=8.3.0->spacy) (0.1.5)\n",
            "Requirement already satisfied: click>=8.0.0 in /usr/local/lib/python3.10/dist-packages (from typer<1.0.0,>=0.3.0->spacy) (8.1.7)\n",
            "Requirement already satisfied: shellingham>=1.3.0 in /usr/local/lib/python3.10/dist-packages (from typer<1.0.0,>=0.3.0->spacy) (1.5.4)\n",
            "Requirement already satisfied: rich>=10.11.0 in /usr/local/lib/python3.10/dist-packages (from typer<1.0.0,>=0.3.0->spacy) (13.8.1)\n",
            "Requirement already satisfied: cloudpathlib<1.0.0,>=0.7.0 in /usr/local/lib/python3.10/dist-packages (from weasel<0.5.0,>=0.1.0->spacy) (0.19.0)\n",
            "Requirement already satisfied: smart-open<8.0.0,>=5.2.1 in /usr/local/lib/python3.10/dist-packages (from weasel<0.5.0,>=0.1.0->spacy) (7.0.4)\n",
            "Requirement already satisfied: MarkupSafe>=2.0 in /usr/local/lib/python3.10/dist-packages (from jinja2->spacy) (2.1.5)\n",
            "Requirement already satisfied: marisa-trie>=0.7.7 in /usr/local/lib/python3.10/dist-packages (from language-data>=1.2->langcodes<4.0.0,>=3.2.0->spacy) (1.2.0)\n",
            "Requirement already satisfied: markdown-it-py>=2.2.0 in /usr/local/lib/python3.10/dist-packages (from rich>=10.11.0->typer<1.0.0,>=0.3.0->spacy) (3.0.0)\n",
            "Requirement already satisfied: pygments<3.0.0,>=2.13.0 in /usr/local/lib/python3.10/dist-packages (from rich>=10.11.0->typer<1.0.0,>=0.3.0->spacy) (2.18.0)\n",
            "Requirement already satisfied: wrapt in /usr/local/lib/python3.10/dist-packages (from smart-open<8.0.0,>=5.2.1->weasel<0.5.0,>=0.1.0->spacy) (1.16.0)\n",
            "Requirement already satisfied: mdurl~=0.1 in /usr/local/lib/python3.10/dist-packages (from markdown-it-py>=2.2.0->rich>=10.11.0->typer<1.0.0,>=0.3.0->spacy) (0.1.2)\n",
            "Collecting es-core-news-sm==3.8.0\n",
            "  Downloading https://github.com/explosion/spacy-models/releases/download/es_core_news_sm-3.8.0/es_core_news_sm-3.8.0-py3-none-any.whl (12.9 MB)\n",
            "\u001b[2K     \u001b[90m━━━━━━━━━━━━━━━━━━━━━━━━━━━━━━━━━━━━━━━━\u001b[0m \u001b[32m12.9/12.9 MB\u001b[0m \u001b[31m55.9 MB/s\u001b[0m eta \u001b[36m0:00:00\u001b[0m\n",
            "\u001b[?25h\u001b[38;5;2m✔ Download and installation successful\u001b[0m\n",
            "You can now load the package via spacy.load('es_core_news_sm')\n",
            "\u001b[38;5;3m⚠ Restart to reload dependencies\u001b[0m\n",
            "If you are in a Jupyter or Colab notebook, you may need to restart Python in\n",
            "order to load all the package's dependencies. You can do this by selecting the\n",
            "'Restart kernel' or 'Restart runtime' option.\n"
          ]
        }
      ]
    },
    {
      "cell_type": "code",
      "source": [
        "import spacy\n",
        "\n",
        "# Cargar el modelo de español\n",
        "nlp = spacy.load(\"es_core_news_sm\")\n",
        "\n",
        "# Procesar el texto\n",
        "doc = nlp(\"Esto es una frase.\")\n",
        "print([(w.text, w.pos_) for w in doc])\n"
      ],
      "metadata": {
        "colab": {
          "base_uri": "https://localhost:8080/"
        },
        "id": "fOKHKJ0yrNpT",
        "outputId": "176f7ae7-725d-4fb1-b95d-e0d9d5659454"
      },
      "execution_count": null,
      "outputs": [
        {
          "output_type": "stream",
          "name": "stdout",
          "text": [
            "[('Esto', 'PRON'), ('es', 'AUX'), ('una', 'DET'), ('frase', 'NOUN'), ('.', 'PUNCT')]\n"
          ]
        }
      ]
    },
    {
      "cell_type": "markdown",
      "source": [
        "# **Chatbots basados en recuperación**"
      ],
      "metadata": {
        "id": "Tf5pmen-Q7f4"
      }
    },
    {
      "cell_type": "markdown",
      "source": [
        "# **Búsqueda por similitud**\n",
        "\n",
        "Para los chatbots basados ​​en recuperación, es común utilizar bolsas de palabras (bag of words) o tf-idf para calcular la similitud de intenciones.\n",
        "\n",
        "En este ensayo utilizare  el Chatbot con TF-IDF y Similitud del Coseno.\n",
        "\n",
        "Voy a utilizar TF-IDF para representar las preguntas en forma de vectores y calcular la similitud con la consulta del usuario usando la similitud del coseno."
      ],
      "metadata": {
        "id": "PVHgkEUwRMFZ"
      }
    },
    {
      "cell_type": "code",
      "source": [
        "from sklearn.feature_extraction.text import TfidfVectorizer\n",
        "from sklearn.metrics.pairwise import cosine_similarity\n",
        "\n",
        "preguntas = [\n",
        "    \"¿Qué es el coaching empresarial?\",\n",
        "    \"¿Cómo puede ayudar el coaching a una empresa?\",\n",
        "    \"¿Cuáles son los beneficios de contratar a un consultor empresarial?\",\n",
        "    \"¿Qué es una consultoría estratégica?\",\n",
        "    \"¿Cómo se diferencia el coaching del mentoring?\",\n",
        "    \"¿Cómo mejorar la productividad en el equipo?\",\n",
        "    \"¿Cuánto tiempo suele durar un proceso de coaching?\",\n",
        "    \"¿Qué es la consultoría de gestión del cambio?\",\n",
        "    \"¿Cómo se mide el éxito de un proceso de coaching?\",\n",
        "    \"¿Cuál es la diferencia entre consultoría y asesoría?\"\n",
        "]\n",
        "\n",
        "respuestas = [\n",
        "    \"El coaching empresarial es una herramienta para mejorar el rendimiento de los empleados mediante el desarrollo de habilidades y la motivación.\",\n",
        "    \"El coaching ayuda a mejorar la productividad, las relaciones laborales y la toma de decisiones dentro de una organización.\",\n",
        "    \"Un consultor aporta una visión externa, detecta oportunidades de mejora y ofrece soluciones estratégicas para el crecimiento.\",\n",
        "    \"Es un servicio que se centra en el análisis y la planificación para ayudar a una empresa a alcanzar sus objetivos a largo plazo.\",\n",
        "    \"El coaching se enfoca en desarrollar habilidades específicas, mientras que el mentoring es más amplio y se basa en la experiencia del mentor.\",\n",
        "    \"La productividad puede mejorarse con la implementación de metas claras, mejor comunicación y capacitaciones continuas.\",\n",
        "    \"Depende del caso, pero generalmente puede durar entre 3 y 6 meses, con sesiones regulares.\",\n",
        "    \"Es un servicio que ayuda a las organizaciones a gestionar la transición durante los cambios internos o externos de manera efectiva.\",\n",
        "    \"El éxito puede medirse a través de indicadores de rendimiento, como el aumento de la productividad o la satisfacción del empleado.\",\n",
        "    \"La consultoría implica un análisis profundo y recomendaciones detalladas, mientras que la asesoría suele ser más puntual y directa.\"\n",
        "]\n",
        "\n",
        "# Vectorización con TF-IDF\n",
        "vectorizer = TfidfVectorizer()\n",
        "tfidf_matrix = vectorizer.fit_transform(preguntas)\n",
        "\n",
        "# Función para encontrar la mejor coincidencia\n",
        "def responder_pregunta_tfidf(consulta_usuario):\n",
        "    consulta_vec = vectorizer.transform([consulta_usuario])\n",
        "    similitudes = cosine_similarity(consulta_vec, tfidf_matrix).flatten()\n",
        "    indice_mejor_coincidencia = similitudes.argmax()\n",
        "    return respuestas[indice_mejor_coincidencia]"
      ],
      "metadata": {
        "id": "3nelZp00RvCH"
      },
      "execution_count": null,
      "outputs": []
    },
    {
      "cell_type": "code",
      "source": [
        "# Ejemplo de consulta\n",
        "consulta = \"¿Cómo se diferencia el coaching del mentoring?\"\n",
        "print(\"Respuesta:\", responder_pregunta_tfidf(consulta))"
      ],
      "metadata": {
        "colab": {
          "base_uri": "https://localhost:8080/"
        },
        "id": "5oNjjUSDU8aB",
        "outputId": "22c5496e-6fe1-49bc-aac6-09558e8e2ee7"
      },
      "execution_count": null,
      "outputs": [
        {
          "output_type": "stream",
          "name": "stdout",
          "text": [
            "Respuesta: El coaching se enfoca en desarrollar habilidades específicas, mientras que el mentoring es más amplio y se basa en la experiencia del mentor.\n"
          ]
        }
      ]
    },
    {
      "cell_type": "markdown",
      "source": [
        "## **Búsqueda por similitud en embeddings**"
      ],
      "metadata": {
        "id": "B4QFWC4uafYu"
      }
    },
    {
      "cell_type": "code",
      "source": [
        "# Vectorización de las preguntas usando embeddings de spaCy\n",
        "preguntas_embeddings = [nlp(pregunta).vector for pregunta in preguntas]\n",
        "\n",
        "# Función para responder usando embeddings\n",
        "def responder_pregunta_embeddings(consulta_usuario):\n",
        "    consulta_vec = nlp(consulta_usuario).vector\n",
        "    similitudes = cosine_similarity([consulta_vec], preguntas_embeddings).flatten()\n",
        "    indice_mejor_coincidencia = similitudes.argmax()\n",
        "    return respuestas[indice_mejor_coincidencia]\n",
        "\n",
        "# Ejemplo de consulta\n",
        "consulta = \"¿Qué es el coaching empresarial?\"\n",
        "print(\"Respuesta:\", responder_pregunta_embeddings(consulta))"
      ],
      "metadata": {
        "colab": {
          "base_uri": "https://localhost:8080/"
        },
        "id": "J8VeuLm7ajHx",
        "outputId": "981cfcb5-52a6-4744-c07e-195ae05549c6"
      },
      "execution_count": null,
      "outputs": [
        {
          "output_type": "stream",
          "name": "stdout",
          "text": [
            "Respuesta: El coaching empresarial es una herramienta para mejorar el rendimiento de los empleados mediante el desarrollo de habilidades y la motivación.\n"
          ]
        }
      ]
    },
    {
      "cell_type": "markdown",
      "source": [
        "### **Prueba del Chatbot**"
      ],
      "metadata": {
        "id": "Di0Mor0jrIFU"
      }
    },
    {
      "cell_type": "markdown",
      "source": [],
      "metadata": {
        "id": "bQhTicwurPQ4"
      }
    },
    {
      "cell_type": "code",
      "source": [
        "consultas = [\"¿Cómo mejorar la productividad?\", \"¿Cuánto dura un proceso de coaching?\", \"¿Qué es la consultoría estratégica?\"]\n",
        "\n",
        "for consulta in consultas:\n",
        "    print(\"Consulta:\", consulta)\n",
        "    print(\"Respuesta TF-IDF:\", responder_pregunta_tfidf(consulta))\n",
        "    print(\"Respuesta Embeddings:\", responder_pregunta_embeddings(consulta))\n",
        "    print(\"\\n\")"
      ],
      "metadata": {
        "colab": {
          "base_uri": "https://localhost:8080/"
        },
        "id": "2RxZHEegrVGm",
        "outputId": "4bca8341-eac9-48e3-fcfc-b2dd8b21ea2a"
      },
      "execution_count": null,
      "outputs": [
        {
          "output_type": "stream",
          "name": "stdout",
          "text": [
            "Consulta: ¿Cómo mejorar la productividad?\n",
            "Respuesta TF-IDF: La productividad puede mejorarse con la implementación de metas claras, mejor comunicación y capacitaciones continuas.\n",
            "Respuesta Embeddings: La productividad puede mejorarse con la implementación de metas claras, mejor comunicación y capacitaciones continuas.\n",
            "\n",
            "\n",
            "Consulta: ¿Cuánto dura un proceso de coaching?\n",
            "Respuesta TF-IDF: Depende del caso, pero generalmente puede durar entre 3 y 6 meses, con sesiones regulares.\n",
            "Respuesta Embeddings: Depende del caso, pero generalmente puede durar entre 3 y 6 meses, con sesiones regulares.\n",
            "\n",
            "\n",
            "Consulta: ¿Qué es la consultoría estratégica?\n",
            "Respuesta TF-IDF: Es un servicio que se centra en el análisis y la planificación para ayudar a una empresa a alcanzar sus objetivos a largo plazo.\n",
            "Respuesta Embeddings: Es un servicio que se centra en el análisis y la planificación para ayudar a una empresa a alcanzar sus objetivos a largo plazo.\n",
            "\n",
            "\n"
          ]
        }
      ]
    },
    {
      "cell_type": "markdown",
      "source": [
        "# **HASTA AQUI REALICE LA CONSULTAS DE LOS CHATCOTS CON LAS PREGUNTAS INSERTADAS POR ASIGNACION EN LAS LISTAS, AQUI LA CODIFICACION PARA UNA CONSULTA INTERACTIVA**"
      ],
      "metadata": {
        "id": "7eEoBhMdtRFa"
      }
    },
    {
      "cell_type": "code",
      "source": [
        "import spacy\n",
        "from sklearn.feature_extraction.text import TfidfVectorizer\n",
        "from sklearn.metrics.pairwise import cosine_similarity\n",
        "\n",
        "# Cargar modelo de embeddings de spaCy\n",
        "nlp = spacy.load(\"es_core_news_sm\")\n",
        "\n",
        "# Dataset de preguntas y respuestas\n",
        "preguntas = [\n",
        "    \"¿Qué es el coaching empresarial?\",\n",
        "    \"¿Cómo puede ayudar el coaching a una empresa?\",\n",
        "    \"¿Cuáles son los beneficios de contratar a un consultor empresarial?\",\n",
        "    \"¿Qué es una consultoría estratégica?\",\n",
        "    \"¿Cómo se diferencia el coaching del mentoring?\",\n",
        "    \"¿Cómo mejorar la productividad en el equipo?\",\n",
        "    \"¿Cuánto tiempo suele durar un proceso de coaching?\",\n",
        "    \"¿Qué es la consultoría de gestión del cambio?\",\n",
        "    \"¿Cómo se mide el éxito de un proceso de coaching?\",\n",
        "    \"¿Cuál es la diferencia entre consultoría y asesoría?\"\n",
        "]\n",
        "\n",
        "respuestas = [\n",
        "    \"El coaching empresarial es una herramienta para mejorar el rendimiento de los empleados mediante el desarrollo de habilidades y la motivación.\",\n",
        "    \"El coaching ayuda a mejorar la productividad, las relaciones laborales y la toma de decisiones dentro de una organización.\",\n",
        "    \"Un consultor aporta una visión externa, detecta oportunidades de mejora y ofrece soluciones estratégicas para el crecimiento.\",\n",
        "    \"Es un servicio que se centra en el análisis y la planificación para ayudar a una empresa a alcanzar sus objetivos a largo plazo.\",\n",
        "    \"El coaching se enfoca en desarrollar habilidades específicas, mientras que el mentoring es más amplio y se basa en la experiencia del mentor.\",\n",
        "    \"La productividad puede mejorarse con la implementación de metas claras, mejor comunicación y capacitaciones continuas.\",\n",
        "    \"Depende del caso, pero generalmente puede durar entre 3 y 6 meses, con sesiones regulares.\",\n",
        "    \"Es un servicio que ayuda a las organizaciones a gestionar la transición durante los cambios internos o externos de manera efectiva.\",\n",
        "    \"El éxito puede medirse a través de indicadores de rendimiento, como el aumento de la productividad o la satisfacción del empleado.\",\n",
        "    \"La consultoría implica un análisis profundo y recomendaciones detalladas, mientras que la asesoría suele ser más puntual y directa.\"\n",
        "]\n",
        "\n",
        "# Vectorización con TF-IDF\n",
        "vectorizer = TfidfVectorizer()\n",
        "tfidf_matrix = vectorizer.fit_transform(preguntas)\n",
        "\n",
        "# Función para encontrar la mejor coincidencia usando TF-IDF\n",
        "def responder_pregunta_tfidf(consulta_usuario):\n",
        "    consulta_vec = vectorizer.transform([consulta_usuario])\n",
        "    similitudes = cosine_similarity(consulta_vec, tfidf_matrix).flatten()\n",
        "    indice_mejor_coincidencia = similitudes.argmax()\n",
        "    return respuestas[indice_mejor_coincidencia]\n",
        "\n",
        "# Vectorización de las preguntas usando embeddings de spaCy\n",
        "preguntas_embeddings = [nlp(pregunta).vector for pregunta in preguntas]\n",
        "\n",
        "# Función para responder usando embeddings\n",
        "def responder_pregunta_embeddings(consulta_usuario):\n",
        "    consulta_vec = nlp(consulta_usuario).vector\n",
        "    similitudes = cosine_similarity([consulta_vec], preguntas_embeddings).flatten()\n",
        "    indice_mejor_coincidencia = similitudes.argmax()\n",
        "    return respuestas[indice_mejor_coincidencia]\n",
        "\n",
        "# Menú interactivo\n",
        "def menu_chatbot():\n",
        "    print(\"¡Bienvenido al chatbot de consultoría empresarial!\\n\")\n",
        "    print(\"Puedes hacer preguntas relacionadas con coaching, consultoría empresarial, gestión del cambio, y más.\\n\")\n",
        "\n",
        "    while True:\n",
        "        print(\"Menú:\")\n",
        "        print(\"1. Hacer una consulta usando TF-IDF\")\n",
        "        print(\"2. Hacer una consulta usando embeddings de spaCy\")\n",
        "        print(\"3. Salir\")\n",
        "\n",
        "        opcion = input(\"Elige una opción (1/2/3): \")\n",
        "\n",
        "        if opcion == \"1\":\n",
        "            consulta = input(\"\\nIntroduce tu pregunta: \")\n",
        "            respuesta = responder_pregunta_tfidf(consulta)\n",
        "            print(\"\\nRespuesta (TF-IDF):\", respuesta, \"\\n\")\n",
        "\n",
        "        elif opcion == \"2\":\n",
        "            consulta = input(\"\\nIntroduce tu pregunta: \")\n",
        "            respuesta = responder_pregunta_embeddings(consulta)\n",
        "            print(\"\\nRespuesta (Embeddings):\", respuesta, \"\\n\")\n",
        "\n",
        "        elif opcion == \"3\":\n",
        "            print(\"Gracias por usar el chatbot. ¡Hasta luego!\")\n",
        "            break\n",
        "\n",
        "        else:\n",
        "            print(\"Opción no válida. Intenta de nuevo.\\n\")\n",
        "\n",
        "# Ejecutar el menú del chatbot\n",
        "menu_chatbot()"
      ],
      "metadata": {
        "colab": {
          "base_uri": "https://localhost:8080/"
        },
        "id": "80oV-dIOtWT5",
        "outputId": "ec9744ed-76c6-46d3-9101-0d96f0895035"
      },
      "execution_count": null,
      "outputs": [
        {
          "output_type": "stream",
          "name": "stdout",
          "text": [
            "¡Bienvenido al chatbot de consultoría empresarial!\n",
            "\n",
            "Puedes hacer preguntas relacionadas con coaching, consultoría empresarial, gestión del cambio, y más.\n",
            "\n",
            "Menú:\n",
            "1. Hacer una consulta usando TF-IDF\n",
            "2. Hacer una consulta usando embeddings de spaCy\n",
            "3. Salir\n",
            "Elige una opción (1/2/3): Cuáles son los beneficios\n",
            "Opción no válida. Intenta de nuevo.\n",
            "\n",
            "Menú:\n",
            "1. Hacer una consulta usando TF-IDF\n",
            "2. Hacer una consulta usando embeddings de spaCy\n",
            "3. Salir\n",
            "Elige una opción (1/2/3): 1\n",
            "\n",
            "Introduce tu pregunta: Cuáles son los beneficios\n",
            "\n",
            "Respuesta (TF-IDF): Un consultor aporta una visión externa, detecta oportunidades de mejora y ofrece soluciones estratégicas para el crecimiento. \n",
            "\n",
            "Menú:\n",
            "1. Hacer una consulta usando TF-IDF\n",
            "2. Hacer una consulta usando embeddings de spaCy\n",
            "3. Salir\n",
            "Elige una opción (1/2/3): 2\n",
            "\n",
            "Introduce tu pregunta:  ayudar el coaching\n",
            "\n",
            "Respuesta (Embeddings): El coaching ayuda a mejorar la productividad, las relaciones laborales y la toma de decisiones dentro de una organización. \n",
            "\n",
            "Menú:\n",
            "1. Hacer una consulta usando TF-IDF\n",
            "2. Hacer una consulta usando embeddings de spaCy\n",
            "3. Salir\n",
            "Elige una opción (1/2/3): 1\n",
            "\n",
            "Introduce tu pregunta: diferencia\n",
            "\n",
            "Respuesta (TF-IDF): El coaching se enfoca en desarrollar habilidades específicas, mientras que el mentoring es más amplio y se basa en la experiencia del mentor. \n",
            "\n",
            "Menú:\n",
            "1. Hacer una consulta usando TF-IDF\n",
            "2. Hacer una consulta usando embeddings de spaCy\n",
            "3. Salir\n",
            "Elige una opción (1/2/3): 1\n",
            "\n",
            "Introduce tu pregunta: productividad\n",
            "\n",
            "Respuesta (TF-IDF): La productividad puede mejorarse con la implementación de metas claras, mejor comunicación y capacitaciones continuas. \n",
            "\n",
            "Menú:\n",
            "1. Hacer una consulta usando TF-IDF\n",
            "2. Hacer una consulta usando embeddings de spaCy\n",
            "3. Salir\n",
            "Elige una opción (1/2/3): 3\n",
            "Gracias por usar el chatbot. ¡Hasta luego!\n"
          ]
        }
      ]
    },
    {
      "cell_type": "markdown",
      "source": [],
      "metadata": {
        "id": "IE6T4cg2GE1S"
      }
    },
    {
      "cell_type": "markdown",
      "source": [
        "### **Preguntas Guia**\n",
        "    \n",
        "#    ¿Qué es el coaching empresarial?\n",
        "# ¿Cómo puede ayudar el coaching a una empresa?\n",
        "#    ¿Cuáles son los beneficios de contratar a un consultor empresarial? texto en negrita\n",
        "#    ¿Qué es una consultoría estratégica?\n",
        "#    ¿Cómo se diferencia el coaching del mentoring?\n",
        "#    ¿Cómo mejorar la productividad en el equipo?\n",
        "#    ¿Cuánto tiempo suele durar un proceso de coaching?\n",
        "#    ¿Qué es la consultoría de gestión del cambio?\n",
        "#    ¿Cómo se mide el éxito de un proceso de coaching?\n",
        "#    ¿Cuál es la diferencia entre consultoría y asesoría?"
      ],
      "metadata": {
        "id": "BLcS1HkQGWEc"
      }
    },
    {
      "cell_type": "markdown",
      "source": [
        "# **Enfoque, aproximación y experiencia en el desarrollo:**\n",
        "\n",
        "Este trabajo se centró en desarrollar una herramienta eficiente para la gestión de conocimiento mediante técnicas de procesamiento del lenguaje natural (NLP), un aspecto clave para mi actividad como coach y consultor. En el campo del coaching y la consultoría, es fundamental poder ofrecer respuestas precisas, rápidas y contextualizadas a las preguntas frecuentes de clientes o colaboradores, lo que mejora la experiencia del cliente y optimiza el tiempo invertido en consultas repetitivas.\n",
        "\n",
        "**La aproximación se estructuró en dos fases:**\n",
        "\n",
        "TF-IDF (Term Frequency-Inverse Document Frequency): Se implementó este modelo para representar las preguntas y sus respuestas en forma numérica, permitiendo encontrar coincidencias entre las consultas del usuario y un conjunto de preguntas almacenadas. El enfoque de TF-IDF es útil para detectar similitudes textuales de forma rápida, lo cual es valioso para identificar la información más relevante para el usuario basándose en la frecuencia de las palabras clave.\n",
        "\n",
        "Embeddings preentrenados con spaCy: A medida que las consultas pueden variar en su redacción o semántica, se implementó un enfoque más avanzado con embeddings preentrenados, que permiten capturar el significado contextual de las palabras. Estos embeddings enriquecen el análisis y mejoran la capacidad del sistema para ofrecer respuestas correctas aunque la consulta no coincida exactamente en términos con las preguntas predefinidas.\n",
        "\n",
        "Esta combinación de enfoques refuerza mi capacidad como coach y consultor para ofrecer un soporte ágil y preciso a mis clientes, asegurando que las consultas más frecuentes se respondan de manera eficiente y, además, fomenta una mejor comprensión de las diferencias semánticas que pueden surgir en las interacciones humanas.\n",
        "\n",
        "**Embedding preentrenado elegido:**\n",
        "\n",
        "Se eligió el modelo de embeddings preentrenado de spaCy en español (es_core_news_sm). Este modelo es fundamental porque proporciona vectores de alta dimensionalidad que representan las palabras en función de su significado y contexto, lo cual es crucial en un campo como el coaching y la consultoría, donde es necesario interpretar el lenguaje natural de manera precisa y captar las sutilezas en las consultas. Este enfoque permitió mejorar la precisión y la relevancia de las respuestas ofrecidas, fortaleciendo el valor de la herramienta en un entorno profesional."
      ],
      "metadata": {
        "id": "tNMM6AjI2m8R"
      }
    }
  ]
}